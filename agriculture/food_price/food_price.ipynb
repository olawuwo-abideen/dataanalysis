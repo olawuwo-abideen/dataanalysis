{
 "cells": [
  {
   "cell_type": "markdown",
   "id": "8fe029b1",
   "metadata": {},
   "source": [
    "# Analytic Report on Food Price and Sales in 14 States in Nigeria"
   ]
  },
  {
   "cell_type": "markdown",
   "id": "a8107e52",
   "metadata": {},
   "source": [
    "#### Data Source \n",
    "The dataset was downloaded from data.humdata.org[https://data.humdata.org/dataset/42db041f-7aaf-4ab4-961f-2a12096861e7/resource/12b51155-0cd3-4806-9924-61ede4077591/download/wfp_food_prices_nga.csv]"
   ]
  },
  {
   "cell_type": "code",
   "execution_count": 2,
   "id": "ba93b8d1",
   "metadata": {},
   "outputs": [],
   "source": [
    "import numpy as np\n",
    "import pandas as pd\n",
    "import seaborn as sns\n",
    "import matplotlib as plt\n",
    "\n",
    "import warnings\n",
    "\n",
    "warnings.filterwarnings(\"ignore\")"
   ]
  },
  {
   "cell_type": "code",
   "execution_count": 2,
   "id": "a256a9a9",
   "metadata": {},
   "outputs": [
    {
     "data": {
      "text/plain": [
       "(74422, 14)"
      ]
     },
     "execution_count": 2,
     "metadata": {},
     "output_type": "execute_result"
    }
   ],
   "source": [
    "df = pd.read_csv('data/wfp_food_prices_nga.csv')\n",
    "df.shape"
   ]
  },
  {
   "cell_type": "code",
   "execution_count": 3,
   "id": "ea5fcb77",
   "metadata": {},
   "outputs": [
    {
     "name": "stdout",
     "output_type": "stream",
     "text": [
      "date :\n",
      " ['#date' '2002-01-15' '2002-02-15' '2002-03-15' '2002-04-15' '2002-05-15'\n",
      " '2002-06-15' '2002-07-15' '2002-08-15' '2002-09-15' '2002-10-15'\n",
      " '2002-11-15' '2002-12-15' '2003-01-15' '2003-02-15' '2003-03-15'\n",
      " '2003-04-15' '2003-05-15' '2003-06-15' '2003-07-15' '2003-08-15'\n",
      " '2003-09-15' '2003-10-15' '2003-11-15' '2003-12-15' '2004-01-15'\n",
      " '2004-02-15' '2004-03-15' '2004-04-15' '2004-05-15' '2004-06-15'\n",
      " '2004-07-15' '2004-08-15' '2004-09-15' '2004-10-15' '2004-11-15'\n",
      " '2004-12-15' '2005-01-15' '2005-02-15' '2005-03-15' '2005-04-15'\n",
      " '2005-05-15' '2005-06-15' '2005-07-15' '2005-08-15' '2005-09-15'\n",
      " '2005-10-15' '2005-11-15' '2005-12-15' '2006-01-15' '2006-02-15'\n",
      " '2006-03-15' '2006-04-15' '2006-05-15' '2006-06-15' '2006-07-15'\n",
      " '2006-08-15' '2006-09-15' '2006-10-15' '2006-11-15' '2006-12-15'\n",
      " '2007-01-15' '2007-02-15' '2007-03-15' '2007-04-15' '2007-05-15'\n",
      " '2007-06-15' '2007-07-15' '2007-08-15' '2007-09-15' '2007-10-15'\n",
      " '2007-11-15' '2007-12-15' '2008-01-15' '2008-02-15' '2008-03-15'\n",
      " '2008-04-15' '2008-05-15' '2008-06-15' '2008-07-15' '2008-08-15'\n",
      " '2008-09-15' '2008-10-15' '2008-11-15' '2008-12-15' '2009-01-15'\n",
      " '2009-02-15' '2009-03-15' '2009-04-15' '2009-05-15' '2009-06-15'\n",
      " '2009-07-15' '2009-08-15' '2009-09-15' '2009-10-15' '2009-11-15'\n",
      " '2009-12-15' '2010-01-15' '2010-02-15' '2010-03-15' '2010-04-15'\n",
      " '2010-05-15' '2010-06-15' '2010-07-15' '2010-08-15' '2010-09-15'\n",
      " '2010-10-15' '2010-11-15' '2010-12-15' '2011-01-15' '2011-02-15'\n",
      " '2011-03-15' '2011-04-15' '2011-05-15' '2011-06-15' '2011-07-15'\n",
      " '2011-08-15' '2011-09-15' '2011-10-15' '2011-11-15' '2011-12-15'\n",
      " '2012-01-15' '2012-02-15' '2012-03-15' '2012-04-15' '2012-05-15'\n",
      " '2012-06-15' '2012-07-15' '2012-08-15' '2012-09-15' '2012-10-15'\n",
      " '2012-11-15' '2012-12-15' '2013-01-15' '2013-02-15' '2013-03-15'\n",
      " '2013-04-15' '2013-05-15' '2013-06-15' '2013-07-15' '2013-08-15'\n",
      " '2013-09-15' '2013-10-15' '2013-11-15' '2013-12-15' '2014-01-15'\n",
      " '2014-02-15' '2014-03-15' '2014-04-15' '2014-05-15' '2014-06-15'\n",
      " '2014-07-15' '2014-08-15' '2014-09-15' '2014-10-15' '2014-11-15'\n",
      " '2014-12-15' '2015-01-15' '2015-02-15' '2015-03-15' '2015-04-15'\n",
      " '2015-05-15' '2015-06-15' '2015-07-15' '2015-08-15' '2015-09-15'\n",
      " '2015-10-15' '2015-11-15' '2015-12-15' '2016-01-15' '2016-02-15'\n",
      " '2016-03-15' '2016-04-15' '2016-05-15' '2016-06-15' '2016-07-15'\n",
      " '2016-08-15' '2016-09-15' '2016-10-15' '2016-11-15' '2016-12-15'\n",
      " '2017-01-15' '2017-02-15' '2017-03-15' '2017-04-15' '2017-05-15'\n",
      " '2017-06-15' '2017-07-15' '2017-08-15' '2017-09-15' '2017-10-15'\n",
      " '2017-11-15' '2017-12-15' '2018-01-15' '2018-02-15' '2018-03-15'\n",
      " '2018-04-15' '2018-05-15' '2018-06-15' '2018-07-15' '2018-08-15'\n",
      " '2018-09-15' '2018-10-15' '2018-11-15' '2018-12-15' '2019-01-15'\n",
      " '2019-02-15' '2019-03-15' '2019-04-15' '2019-05-15' '2019-06-15'\n",
      " '2019-07-15' '2019-08-15' '2019-09-15' '2019-10-15' '2019-11-15'\n",
      " '2019-12-15' '2020-01-15' '2020-02-15' '2020-03-15' '2020-04-15'\n",
      " '2020-05-15' '2020-06-15' '2020-07-15' '2020-08-15' '2020-09-15'\n",
      " '2020-10-15' '2020-11-15' '2020-12-15' '2021-01-15' '2021-02-15'\n",
      " '2021-03-15' '2021-04-15' '2021-05-15' '2021-06-15' '2021-07-15'\n",
      " '2021-08-15' '2021-09-15' '2021-10-15' '2021-11-15' '2021-12-15'\n",
      " '2022-01-15' '2022-02-15' '2022-03-15' '2022-04-15' '2022-05-15'\n",
      " '2022-06-15' '2022-07-15' '2022-08-15' '2022-09-15' '2022-10-15'\n",
      " '2022-11-15' '2022-12-15' '2023-01-15' '2023-02-15' '2023-03-15'\n",
      " '2023-04-15' '2023-05-15' '2023-06-15' '2023-07-15']\n",
      "2021-11-15    1772\n",
      "2021-10-15    1748\n",
      "2022-03-15    1728\n",
      "2022-02-15    1720\n",
      "2022-05-15    1720\n",
      "              ... \n",
      "2007-07-15       2\n",
      "2006-11-15       2\n",
      "2006-10-15       2\n",
      "2004-08-15       2\n",
      "#date            1\n",
      "Name: date, Length: 260, dtype: int64\n",
      "\n",
      " **************************************** \n",
      "\n",
      "admin1 :\n",
      " ['#adm1+name' 'Katsina' 'Sokoto' 'Borno' 'Kano' 'Jigawa' 'Oyo' 'Lagos'\n",
      " 'Kaduna' 'Zamfara' 'Abia' 'Gombe' 'Kebbi' 'Adamawa' 'Yobe']\n",
      "Yobe          22753\n",
      "Borno         19388\n",
      "Kaduna         4847\n",
      "Katsina        3639\n",
      "Kano           2956\n",
      "Oyo            2837\n",
      "Jigawa         2734\n",
      "Zamfara        2716\n",
      "Kebbi          2702\n",
      "Gombe          2699\n",
      "Lagos          2556\n",
      "Adamawa        2359\n",
      "Abia           1602\n",
      "Sokoto          633\n",
      "#adm1+name        1\n",
      "Name: admin1, dtype: int64\n",
      "\n",
      " **************************************** \n",
      "\n",
      "admin2 :\n",
      " ['#adm2+name' 'Jibia' 'Gada' \"Mai'Adua\" 'Mobbar' 'Dawakin Tofa'\n",
      " 'Maigatari' 'Ibadan North' 'Maiduguri' 'Kosofe' 'Giwa' 'Kaura Namoda'\n",
      " 'Oboma Ngwa' 'Akko' 'Kaugama' 'Lere' 'Dandume' 'Gwandu' 'Hong' 'Biu'\n",
      " 'Damaturu' 'Potiskum' 'Konduga' 'Geidam' 'Gujba' 'Jakusko' 'Karasuwa'\n",
      " 'Nguru' 'Yunusari' 'Yusufari' 'Borsari' 'Gulani']\n",
      "Maiduguri       11422\n",
      "Konduga          5153\n",
      "Damaturu         4226\n",
      "Potiskum         3888\n",
      "Dawakin Tofa     2956\n",
      "Ibadan North     2837\n",
      "Kaura Namoda     2716\n",
      "Gwandu           2702\n",
      "Akko             2699\n",
      "Kosofe           2556\n",
      "Dandume          2529\n",
      "Giwa             2499\n",
      "Biu              2452\n",
      "Kaugama          2385\n",
      "Hong             2359\n",
      "Lere             2348\n",
      "Geidam           1689\n",
      "Nguru            1684\n",
      "Karasuwa         1683\n",
      "Borsari          1654\n",
      "Yunusari         1648\n",
      "Jakusko          1629\n",
      "Yusufari         1621\n",
      "Oboma Ngwa       1602\n",
      "Gujba            1525\n",
      "Gulani           1506\n",
      "Gada              633\n",
      "Mai'Adua          584\n",
      "Jibia             526\n",
      "Mobbar            361\n",
      "Maigatari         349\n",
      "#adm2+name          1\n",
      "Name: admin2, dtype: int64\n",
      "\n",
      " **************************************** \n",
      "\n",
      "market :\n",
      " ['#loc+market+name' 'Jibia (CBM)' 'Illela (CBM)' 'Mai Adoua (CBM)'\n",
      " 'Damassack (CBM)' 'Dawanau' 'Mai Gatari (CBM)' 'Ibadan' 'Maiduguri'\n",
      " 'Lagos' 'Giwa' 'Kaura Namoda' 'Aba' 'Gombe' 'Gujungu' 'Saminaka'\n",
      " 'Dandume' 'Gwandu' 'Mubi' 'Biu' 'Damaturu' 'Potiskum' 'Abba Gamaram'\n",
      " 'Baga Road' 'Bullunkutu' 'Budum' 'Custom' 'Kusawam Shanu' 'Monday'\n",
      " 'Tashan Bama' 'Bolori Stores' 'Damaturu (Sunday Market)' 'Geidam'\n",
      " 'Gujba (Buni Yadi)' 'Jakusko' 'Bade (Gashua)' 'Nguru' 'Yunusari'\n",
      " 'Yusufari' 'Bursari' 'Gulani (Tettaba)']\n",
      "Potiskum                    3888\n",
      "Dawanau                     2956\n",
      "Ibadan                      2837\n",
      "Maiduguri                   2766\n",
      "Kaura Namoda                2716\n",
      "Gwandu                      2702\n",
      "Gombe                       2699\n",
      "Lagos                       2556\n",
      "Damaturu                    2548\n",
      "Dandume                     2529\n",
      "Giwa                        2499\n",
      "Biu                         2452\n",
      "Gujungu                     2385\n",
      "Mubi                        2359\n",
      "Saminaka                    2348\n",
      "Baga Road                   1825\n",
      "Budum                       1812\n",
      "Abba Gamaram                1810\n",
      "Monday                      1806\n",
      "Tashan Bama                 1799\n",
      "Custom                      1797\n",
      "Geidam                      1689\n",
      "Nguru                       1684\n",
      "Bade (Gashua)               1683\n",
      "Damaturu (Sunday Market)    1678\n",
      "Bursari                     1654\n",
      "Yunusari                    1648\n",
      "Jakusko                     1629\n",
      "Yusufari                    1621\n",
      "Aba                         1602\n",
      "Gujba (Buni Yadi)           1525\n",
      "Gulani (Tettaba)            1506\n",
      "Kusawam Shanu               1442\n",
      "Bullunkutu                  1440\n",
      "Illela (CBM)                 633\n",
      "Mai Adoua (CBM)              584\n",
      "Jibia (CBM)                  526\n",
      "Damassack (CBM)              361\n",
      "Mai Gatari (CBM)             349\n",
      "Bolori Stores                 78\n",
      "#loc+market+name               1\n",
      "Name: market, dtype: int64\n",
      "\n",
      " **************************************** \n",
      "\n",
      "latitude :\n",
      " ['#geo+lat' '13.08' '13.645' '13.18' '13.01' '12.090120315551758' '12.78'\n",
      " '7.4019598960876465' '11.831100463867188' '6.61216402053833'\n",
      " '11.280159950256348' '12.595190048217773' '5.147640228271484'\n",
      " '10.283329963684082' '12.362299919128418' '10.416500091552734'\n",
      " '11.416669845581055' '12.493820190429688' '10.267609596252441'\n",
      " '10.611100196838379' '11.744440078735352' '11.707240104675293'\n",
      " '11.858181953430176' '11.867950439453125' '11.829812049865723'\n",
      " '11.84973430633545' '11.850709915161133' '11.85888671875'\n",
      " '11.834550857543945' '11.810953140258789' '11.85260253'\n",
      " '11.739766120910645' '12.890277862548828' '11.285202026367188'\n",
      " '12.201859474182129' '12.868664741516113' '12.872964859008789'\n",
      " '13.149833679199219' '13.062664985656738' '12.496692657470703'\n",
      " '10.813901901245117' 5.147640228271484 10.26760959625244\n",
      " 10.61110019683838 11.858181953430176 11.867950439453123 11.84973430633545\n",
      " 11.850709915161133 11.831100463867188 11.834550857543944\n",
      " 11.810953140258787 10.283329963684082 12.362299919128418\n",
      " 11.280159950256348 10.416500091552734 12.090120315551758\n",
      " 11.416669845581056 12.493820190429688 6.61216402053833 7.4019598960876465\n",
      " 12.496692657470703 11.744440078735352 11.739766120910645\n",
      " 12.890277862548828 11.285202026367188 10.813901901245115\n",
      " 12.201859474182127 12.868664741516112 12.872964859008787\n",
      " 11.707240104675291 13.14983367919922 13.062664985656738\n",
      " 12.595190048217772]\n",
      "11.707240104675293    3323\n",
      "12.090120315551758    2579\n",
      "7.4019598960876465    2452\n",
      "11.831100463867188    2376\n",
      "12.595190048217773    2326\n",
      "                      ... \n",
      "13.062664985656738     171\n",
      "11.285202026367188     170\n",
      "12.201859474182127     168\n",
      "11.85260253             78\n",
      "#geo+lat                 1\n",
      "Name: latitude, Length: 73, dtype: int64\n",
      "\n",
      " **************************************** \n",
      "\n",
      "longitude :\n",
      " ['#geo+lon' '7.24' '5.278' '8.23' '12.56' '8.429120063781738' '9.44'\n",
      " '3.9173099994659424' '13.150970458984375' '3.4018969535827637'\n",
      " '7.41786003112793' '6.586349964141846' '7.356719970703125'\n",
      " '11.166669845581055' '9.583600044250488' '8.681380271911621'\n",
      " '7.199999809265137' '4.642270088195801' '13.264360427856445'\n",
      " '12.194999694824219' '11.96111011505127' '11.082489967346191'\n",
      " '13.154891967773438' '13.123313903808594' '13.092645645141602'\n",
      " '13.16344165802002' '13.171241760253906' '13.175995826721191'\n",
      " '13.152417182922363' '13.182149887084961' '13.14149168' '11.955810546875'\n",
      " '11.92116641998291' '11.99950122833252' '10.878244400024414'\n",
      " '11.039624214172363' '10.445594787597656' '11.54023551940918'\n",
      " '11.171370506286621' '11.499503135681152' '11.728192329406738'\n",
      " 7.356719970703125 13.264360427856444 12.19499969482422 13.154891967773438\n",
      " 13.123313903808594 13.16344165802002 13.171241760253906\n",
      " 13.150970458984377 13.152417182922363 13.18214988708496\n",
      " 11.166669845581056 9.583600044250488 7.41786003112793 8.681380271911621\n",
      " 8.429120063781738 7.199999809265137 4.642270088195801 3.401896953582764\n",
      " 3.9173099994659424 11.499503135681152 11.96111011505127 11.955810546875\n",
      " 11.92116641998291 11.99950122833252 11.728192329406738 10.878244400024414\n",
      " 11.039624214172363 10.445594787597656 11.082489967346191\n",
      " 11.54023551940918 11.17137050628662 6.586349964141846]\n",
      "11.082489967346191    3323\n",
      "8.429120063781738     2579\n",
      "3.9173099994659424    2452\n",
      "13.150970458984375    2376\n",
      "6.586349964141846     2326\n",
      "                      ... \n",
      "11.17137050628662      171\n",
      "11.99950122833252      170\n",
      "10.878244400024414     168\n",
      "13.14149168             78\n",
      "#geo+lon                 1\n",
      "Name: longitude, Length: 73, dtype: int64\n",
      "\n",
      " **************************************** \n",
      "\n",
      "category :\n",
      " ['#item+type' 'cereals and tubers' 'pulses and nuts' 'non-food'\n",
      " 'oil and fats' 'meat, fish and eggs' 'milk and dairy'\n",
      " 'vegetables and fruits' 'miscellaneous food']\n",
      "cereals and tubers       37762\n",
      "pulses and nuts          12661\n",
      "vegetables and fruits     7437\n",
      "meat, fish and eggs       5259\n",
      "oil and fats              4381\n",
      "non-food                  3295\n",
      "miscellaneous food        2304\n",
      "milk and dairy            1322\n",
      "#item+type                   1\n",
      "Name: category, dtype: int64\n",
      "\n",
      " **************************************** \n",
      "\n",
      "commodity :\n",
      " ['#item+name' 'Maize' 'Millet' 'Rice (imported)' 'Sorghum' 'Beans (niebe)'\n",
      " 'Wheat' 'Maize (white)' 'Sorghum (white)' 'Rice (milled, local)' 'Bread'\n",
      " 'Cassava meal (gari, yellow)' 'Gari (white)' 'Maize (yellow)'\n",
      " 'Rice (local)' 'Sorghum (brown)' 'Yam (Abuja)' 'Fuel (diesel)'\n",
      " 'Fuel (petrol-gasoline)' 'Oil (palm)' 'Cowpeas (brown)' 'Cowpeas (white)'\n",
      " 'Yam' 'Groundnuts (shelled)' 'Maize flour' 'Meat (beef)' 'Meat (goat)'\n",
      " 'Milk' 'Oil (vegetable)' 'Beans (red)' 'Beans (white)' 'Groundnuts'\n",
      " 'Onions' 'Fish' 'Eggs' 'Bananas' 'Oranges' 'Spinach' 'Watermelons'\n",
      " 'Cowpeas' 'Tomatoes' 'Salt' 'Sugar']\n",
      "Millet                         4631\n",
      "Rice (imported)                4307\n",
      "Rice (local)                   3863\n",
      "Yam                            3694\n",
      "Oil (palm)                     3052\n",
      "Maize (white)                  2856\n",
      "Sorghum (white)                2786\n",
      "Cowpeas (white)                2608\n",
      "Groundnuts (shelled)           2565\n",
      "Sorghum (brown)                2556\n",
      "Gari (white)                   2500\n",
      "Maize (yellow)                 2465\n",
      "Cowpeas (brown)                2425\n",
      "Cassava meal (gari, yellow)    2223\n",
      "Sorghum                        1882\n",
      "Fuel (petrol-gasoline)         1652\n",
      "Fuel (diesel)                  1643\n",
      "Bread                          1561\n",
      "Beans (white)                  1339\n",
      "Groundnuts                     1333\n",
      "Oil (vegetable)                1329\n",
      "Meat (beef)                    1328\n",
      "Meat (goat)                    1325\n",
      "Milk                           1322\n",
      "Beans (red)                    1320\n",
      "Maize flour                    1320\n",
      "Onions                         1313\n",
      "Fish                           1313\n",
      "Oranges                        1293\n",
      "Eggs                           1293\n",
      "Watermelons                    1292\n",
      "Bananas                        1280\n",
      "Tomatoes                       1186\n",
      "Salt                           1152\n",
      "Sugar                          1152\n",
      "Spinach                        1073\n",
      "Cowpeas                        1047\n",
      "Maize                           592\n",
      "Rice (milled, local)            375\n",
      "Yam (Abuja)                      82\n",
      "Wheat                            69\n",
      "Beans (niebe)                    24\n",
      "#item+name                        1\n",
      "Name: commodity, dtype: int64\n",
      "\n",
      " **************************************** \n",
      "\n",
      "unit :\n",
      " ['#item+unit' 'KG' '100 KG' '50 KG' 'Unit' 'L' '100 L' '1.3 KG' '1.4 KG'\n",
      " '3.4 KG' '20 G' '750 ML' '1.1 KG' '0.5 KG' '1.5 KG' '30 pcs' '400 G'\n",
      " '300 G' '2.1 KG' '3.1 KG' '1.2 KG' '250 G' '100 Tubers']\n",
      "100 KG        18389\n",
      "KG            17807\n",
      "1.3 KG         5999\n",
      "L              4907\n",
      "1.4 KG         4376\n",
      "1.2 KG         3647\n",
      "750 ML         2664\n",
      "400 G          2018\n",
      "50 KG          1892\n",
      "0.5 KG         1774\n",
      "Unit           1561\n",
      "20 G           1322\n",
      "30 pcs         1293\n",
      "2.1 KG         1292\n",
      "250 G          1152\n",
      "300 G          1073\n",
      "3.1 KG          728\n",
      "100 Tubers      650\n",
      "1.1 KG          600\n",
      "3.4 KG          594\n",
      "1.5 KG          590\n",
      "100 L            93\n",
      "#item+unit        1\n",
      "Name: unit, dtype: int64\n",
      "\n",
      " **************************************** \n",
      "\n",
      "priceflag :\n",
      " ['#item+price+flag' 'actual' 'actual,aggregate' 'aggregate' 'forecast']\n",
      "actual              48107\n",
      "aggregate           14116\n",
      "forecast            11744\n",
      "actual,aggregate      454\n",
      "#item+price+flag        1\n",
      "Name: priceflag, dtype: int64\n",
      "\n",
      " **************************************** \n",
      "\n",
      "pricetype :\n",
      " ['#item+price+type' 'Wholesale' 'Retail']\n",
      "Retail              50472\n",
      "Wholesale           23949\n",
      "#item+price+type        1\n",
      "Name: pricetype, dtype: int64\n",
      "\n",
      " **************************************** \n",
      "\n",
      "currency :\n",
      " ['#currency' 'NGN']\n",
      "NGN          74421\n",
      "#currency        1\n",
      "Name: currency, dtype: int64\n",
      "\n",
      " **************************************** \n",
      "\n",
      "price :\n",
      " ['#value' '175.92' '150.18' ... '467.66' '0.0' 0.0]\n"
     ]
    },
    {
     "name": "stdout",
     "output_type": "stream",
     "text": [
      "0.0        8886\n",
      "0.0        2858\n",
      "50.0       1961\n",
      "200.0      1461\n",
      "100.0      1337\n",
      "           ... \n",
      "21675.0       1\n",
      "149.89        1\n",
      "25950.0       1\n",
      "351.03        1\n",
      "502.73        1\n",
      "Name: price, Length: 19447, dtype: int64\n",
      "\n",
      " **************************************** \n",
      "\n",
      "usdprice :\n",
      " ['#value+usd' '1.5525' '1.3254' ... '1.0151' '0.0' 0.0]\n",
      "0.0           8886\n",
      "0.0           2858\n",
      "0.1629         205\n",
      "0.1397         150\n",
      "0.1401         142\n",
      "              ... \n",
      "0.206            1\n",
      "90.9091          1\n",
      "0.9341           1\n",
      "1.9231           1\n",
      "#value+usd       1\n",
      "Name: usdprice, Length: 28636, dtype: int64\n",
      "\n",
      " **************************************** \n",
      "\n"
     ]
    }
   ],
   "source": [
    "# let's check unique values\n",
    "columns=df.columns\n",
    "for col in columns:\n",
    "    print(col,':\\n',df[col].unique())\n",
    "    print(df[col].value_counts())\n",
    "    print('\\n',20*'**','\\n')"
   ]
  },
  {
   "cell_type": "code",
   "execution_count": 4,
   "id": "dd3b6744",
   "metadata": {},
   "outputs": [
    {
     "data": {
      "text/html": [
       "<div>\n",
       "<style scoped>\n",
       "    .dataframe tbody tr th:only-of-type {\n",
       "        vertical-align: middle;\n",
       "    }\n",
       "\n",
       "    .dataframe tbody tr th {\n",
       "        vertical-align: top;\n",
       "    }\n",
       "\n",
       "    .dataframe thead th {\n",
       "        text-align: right;\n",
       "    }\n",
       "</style>\n",
       "<table border=\"1\" class=\"dataframe\">\n",
       "  <thead>\n",
       "    <tr style=\"text-align: right;\">\n",
       "      <th></th>\n",
       "      <th>date</th>\n",
       "      <th>admin1</th>\n",
       "      <th>admin2</th>\n",
       "      <th>market</th>\n",
       "      <th>latitude</th>\n",
       "      <th>longitude</th>\n",
       "      <th>category</th>\n",
       "      <th>commodity</th>\n",
       "      <th>unit</th>\n",
       "      <th>priceflag</th>\n",
       "      <th>pricetype</th>\n",
       "      <th>currency</th>\n",
       "      <th>price</th>\n",
       "      <th>usdprice</th>\n",
       "    </tr>\n",
       "  </thead>\n",
       "  <tbody>\n",
       "    <tr>\n",
       "      <th>0</th>\n",
       "      <td>#date</td>\n",
       "      <td>#adm1+name</td>\n",
       "      <td>#adm2+name</td>\n",
       "      <td>#loc+market+name</td>\n",
       "      <td>#geo+lat</td>\n",
       "      <td>#geo+lon</td>\n",
       "      <td>#item+type</td>\n",
       "      <td>#item+name</td>\n",
       "      <td>#item+unit</td>\n",
       "      <td>#item+price+flag</td>\n",
       "      <td>#item+price+type</td>\n",
       "      <td>#currency</td>\n",
       "      <td>#value</td>\n",
       "      <td>#value+usd</td>\n",
       "    </tr>\n",
       "    <tr>\n",
       "      <th>1</th>\n",
       "      <td>2002-01-15</td>\n",
       "      <td>Katsina</td>\n",
       "      <td>Jibia</td>\n",
       "      <td>Jibia (CBM)</td>\n",
       "      <td>13.08</td>\n",
       "      <td>7.24</td>\n",
       "      <td>cereals and tubers</td>\n",
       "      <td>Maize</td>\n",
       "      <td>KG</td>\n",
       "      <td>actual</td>\n",
       "      <td>Wholesale</td>\n",
       "      <td>NGN</td>\n",
       "      <td>175.92</td>\n",
       "      <td>1.5525</td>\n",
       "    </tr>\n",
       "    <tr>\n",
       "      <th>2</th>\n",
       "      <td>2002-01-15</td>\n",
       "      <td>Katsina</td>\n",
       "      <td>Jibia</td>\n",
       "      <td>Jibia (CBM)</td>\n",
       "      <td>13.08</td>\n",
       "      <td>7.24</td>\n",
       "      <td>cereals and tubers</td>\n",
       "      <td>Millet</td>\n",
       "      <td>KG</td>\n",
       "      <td>actual</td>\n",
       "      <td>Wholesale</td>\n",
       "      <td>NGN</td>\n",
       "      <td>150.18</td>\n",
       "      <td>1.3254</td>\n",
       "    </tr>\n",
       "    <tr>\n",
       "      <th>3</th>\n",
       "      <td>2002-01-15</td>\n",
       "      <td>Katsina</td>\n",
       "      <td>Jibia</td>\n",
       "      <td>Jibia (CBM)</td>\n",
       "      <td>13.08</td>\n",
       "      <td>7.24</td>\n",
       "      <td>cereals and tubers</td>\n",
       "      <td>Rice (imported)</td>\n",
       "      <td>KG</td>\n",
       "      <td>actual</td>\n",
       "      <td>Wholesale</td>\n",
       "      <td>NGN</td>\n",
       "      <td>358.7</td>\n",
       "      <td>3.1656</td>\n",
       "    </tr>\n",
       "    <tr>\n",
       "      <th>4</th>\n",
       "      <td>2002-01-15</td>\n",
       "      <td>Katsina</td>\n",
       "      <td>Jibia</td>\n",
       "      <td>Jibia (CBM)</td>\n",
       "      <td>13.08</td>\n",
       "      <td>7.24</td>\n",
       "      <td>cereals and tubers</td>\n",
       "      <td>Sorghum</td>\n",
       "      <td>KG</td>\n",
       "      <td>actual</td>\n",
       "      <td>Wholesale</td>\n",
       "      <td>NGN</td>\n",
       "      <td>155.61</td>\n",
       "      <td>1.3733</td>\n",
       "    </tr>\n",
       "  </tbody>\n",
       "</table>\n",
       "</div>"
      ],
      "text/plain": [
       "         date      admin1      admin2            market  latitude longitude  \\\n",
       "0       #date  #adm1+name  #adm2+name  #loc+market+name  #geo+lat  #geo+lon   \n",
       "1  2002-01-15     Katsina       Jibia       Jibia (CBM)     13.08      7.24   \n",
       "2  2002-01-15     Katsina       Jibia       Jibia (CBM)     13.08      7.24   \n",
       "3  2002-01-15     Katsina       Jibia       Jibia (CBM)     13.08      7.24   \n",
       "4  2002-01-15     Katsina       Jibia       Jibia (CBM)     13.08      7.24   \n",
       "\n",
       "             category        commodity        unit         priceflag  \\\n",
       "0          #item+type       #item+name  #item+unit  #item+price+flag   \n",
       "1  cereals and tubers            Maize          KG            actual   \n",
       "2  cereals and tubers           Millet          KG            actual   \n",
       "3  cereals and tubers  Rice (imported)          KG            actual   \n",
       "4  cereals and tubers          Sorghum          KG            actual   \n",
       "\n",
       "          pricetype   currency   price    usdprice  \n",
       "0  #item+price+type  #currency  #value  #value+usd  \n",
       "1         Wholesale        NGN  175.92      1.5525  \n",
       "2         Wholesale        NGN  150.18      1.3254  \n",
       "3         Wholesale        NGN   358.7      3.1656  \n",
       "4         Wholesale        NGN  155.61      1.3733  "
      ]
     },
     "execution_count": 4,
     "metadata": {},
     "output_type": "execute_result"
    }
   ],
   "source": [
    "df.head()"
   ]
  },
  {
   "cell_type": "markdown",
   "id": "2cf293e3",
   "metadata": {},
   "source": [
    "### Data cleaning"
   ]
  },
  {
   "cell_type": "markdown",
   "id": "b4505090",
   "metadata": {},
   "source": [
    "###### Check For Missing Value"
   ]
  },
  {
   "cell_type": "code",
   "execution_count": 5,
   "id": "8ce9619a",
   "metadata": {},
   "outputs": [
    {
     "data": {
      "text/plain": [
       "date         0\n",
       "admin1       0\n",
       "admin2       0\n",
       "market       0\n",
       "latitude     0\n",
       "longitude    0\n",
       "category     0\n",
       "commodity    0\n",
       "unit         0\n",
       "priceflag    0\n",
       "pricetype    0\n",
       "currency     0\n",
       "price        0\n",
       "usdprice     0\n",
       "dtype: int64"
      ]
     },
     "execution_count": 5,
     "metadata": {},
     "output_type": "execute_result"
    }
   ],
   "source": [
    "#There is No Missing Value\n",
    "df.isna().sum()"
   ]
  },
  {
   "cell_type": "markdown",
   "id": "13973f9a",
   "metadata": {},
   "source": [
    "###### Removing The First Row and Reset the index"
   ]
  },
  {
   "cell_type": "code",
   "execution_count": 6,
   "id": "50ec1fd4",
   "metadata": {},
   "outputs": [],
   "source": [
    "#Drop the first Row\n",
    "df = df.iloc[1:]"
   ]
  },
  {
   "cell_type": "code",
   "execution_count": 7,
   "id": "2442b8bb",
   "metadata": {},
   "outputs": [],
   "source": [
    "# Reset the index\n",
    "df = df.reset_index(drop=True)"
   ]
  },
  {
   "cell_type": "code",
   "execution_count": 8,
   "id": "19c5464f",
   "metadata": {},
   "outputs": [
    {
     "data": {
      "text/html": [
       "<div>\n",
       "<style scoped>\n",
       "    .dataframe tbody tr th:only-of-type {\n",
       "        vertical-align: middle;\n",
       "    }\n",
       "\n",
       "    .dataframe tbody tr th {\n",
       "        vertical-align: top;\n",
       "    }\n",
       "\n",
       "    .dataframe thead th {\n",
       "        text-align: right;\n",
       "    }\n",
       "</style>\n",
       "<table border=\"1\" class=\"dataframe\">\n",
       "  <thead>\n",
       "    <tr style=\"text-align: right;\">\n",
       "      <th></th>\n",
       "      <th>date</th>\n",
       "      <th>admin1</th>\n",
       "      <th>admin2</th>\n",
       "      <th>market</th>\n",
       "      <th>latitude</th>\n",
       "      <th>longitude</th>\n",
       "      <th>category</th>\n",
       "      <th>commodity</th>\n",
       "      <th>unit</th>\n",
       "      <th>priceflag</th>\n",
       "      <th>pricetype</th>\n",
       "      <th>currency</th>\n",
       "      <th>price</th>\n",
       "      <th>usdprice</th>\n",
       "    </tr>\n",
       "  </thead>\n",
       "  <tbody>\n",
       "    <tr>\n",
       "      <th>0</th>\n",
       "      <td>2002-01-15</td>\n",
       "      <td>Katsina</td>\n",
       "      <td>Jibia</td>\n",
       "      <td>Jibia (CBM)</td>\n",
       "      <td>13.08</td>\n",
       "      <td>7.24</td>\n",
       "      <td>cereals and tubers</td>\n",
       "      <td>Maize</td>\n",
       "      <td>KG</td>\n",
       "      <td>actual</td>\n",
       "      <td>Wholesale</td>\n",
       "      <td>NGN</td>\n",
       "      <td>175.92</td>\n",
       "      <td>1.5525</td>\n",
       "    </tr>\n",
       "    <tr>\n",
       "      <th>1</th>\n",
       "      <td>2002-01-15</td>\n",
       "      <td>Katsina</td>\n",
       "      <td>Jibia</td>\n",
       "      <td>Jibia (CBM)</td>\n",
       "      <td>13.08</td>\n",
       "      <td>7.24</td>\n",
       "      <td>cereals and tubers</td>\n",
       "      <td>Millet</td>\n",
       "      <td>KG</td>\n",
       "      <td>actual</td>\n",
       "      <td>Wholesale</td>\n",
       "      <td>NGN</td>\n",
       "      <td>150.18</td>\n",
       "      <td>1.3254</td>\n",
       "    </tr>\n",
       "    <tr>\n",
       "      <th>2</th>\n",
       "      <td>2002-01-15</td>\n",
       "      <td>Katsina</td>\n",
       "      <td>Jibia</td>\n",
       "      <td>Jibia (CBM)</td>\n",
       "      <td>13.08</td>\n",
       "      <td>7.24</td>\n",
       "      <td>cereals and tubers</td>\n",
       "      <td>Rice (imported)</td>\n",
       "      <td>KG</td>\n",
       "      <td>actual</td>\n",
       "      <td>Wholesale</td>\n",
       "      <td>NGN</td>\n",
       "      <td>358.7</td>\n",
       "      <td>3.1656</td>\n",
       "    </tr>\n",
       "    <tr>\n",
       "      <th>3</th>\n",
       "      <td>2002-01-15</td>\n",
       "      <td>Katsina</td>\n",
       "      <td>Jibia</td>\n",
       "      <td>Jibia (CBM)</td>\n",
       "      <td>13.08</td>\n",
       "      <td>7.24</td>\n",
       "      <td>cereals and tubers</td>\n",
       "      <td>Sorghum</td>\n",
       "      <td>KG</td>\n",
       "      <td>actual</td>\n",
       "      <td>Wholesale</td>\n",
       "      <td>NGN</td>\n",
       "      <td>155.61</td>\n",
       "      <td>1.3733</td>\n",
       "    </tr>\n",
       "    <tr>\n",
       "      <th>4</th>\n",
       "      <td>2002-01-15</td>\n",
       "      <td>Katsina</td>\n",
       "      <td>Jibia</td>\n",
       "      <td>Jibia (CBM)</td>\n",
       "      <td>13.08</td>\n",
       "      <td>7.24</td>\n",
       "      <td>pulses and nuts</td>\n",
       "      <td>Beans (niebe)</td>\n",
       "      <td>KG</td>\n",
       "      <td>actual</td>\n",
       "      <td>Wholesale</td>\n",
       "      <td>NGN</td>\n",
       "      <td>196.87</td>\n",
       "      <td>1.7374</td>\n",
       "    </tr>\n",
       "  </tbody>\n",
       "</table>\n",
       "</div>"
      ],
      "text/plain": [
       "         date   admin1 admin2       market latitude longitude  \\\n",
       "0  2002-01-15  Katsina  Jibia  Jibia (CBM)    13.08      7.24   \n",
       "1  2002-01-15  Katsina  Jibia  Jibia (CBM)    13.08      7.24   \n",
       "2  2002-01-15  Katsina  Jibia  Jibia (CBM)    13.08      7.24   \n",
       "3  2002-01-15  Katsina  Jibia  Jibia (CBM)    13.08      7.24   \n",
       "4  2002-01-15  Katsina  Jibia  Jibia (CBM)    13.08      7.24   \n",
       "\n",
       "             category        commodity unit priceflag  pricetype currency  \\\n",
       "0  cereals and tubers            Maize   KG    actual  Wholesale      NGN   \n",
       "1  cereals and tubers           Millet   KG    actual  Wholesale      NGN   \n",
       "2  cereals and tubers  Rice (imported)   KG    actual  Wholesale      NGN   \n",
       "3  cereals and tubers          Sorghum   KG    actual  Wholesale      NGN   \n",
       "4     pulses and nuts    Beans (niebe)   KG    actual  Wholesale      NGN   \n",
       "\n",
       "    price usdprice  \n",
       "0  175.92   1.5525  \n",
       "1  150.18   1.3254  \n",
       "2   358.7   3.1656  \n",
       "3  155.61   1.3733  \n",
       "4  196.87   1.7374  "
      ]
     },
     "execution_count": 8,
     "metadata": {},
     "output_type": "execute_result"
    }
   ],
   "source": [
    "df.head()"
   ]
  },
  {
   "cell_type": "code",
   "execution_count": 9,
   "id": "cd2b6806",
   "metadata": {},
   "outputs": [
    {
     "data": {
      "text/plain": [
       "Index(['date', 'admin1', 'admin2', 'market', 'latitude', 'longitude',\n",
       "       'category', 'commodity', 'unit', 'priceflag', 'pricetype', 'currency',\n",
       "       'price', 'usdprice'],\n",
       "      dtype='object')"
      ]
     },
     "execution_count": 9,
     "metadata": {},
     "output_type": "execute_result"
    }
   ],
   "source": [
    "df.columns"
   ]
  },
  {
   "cell_type": "markdown",
   "id": "6993ba3b",
   "metadata": {},
   "source": [
    "###### Rename Admin1 and 2 to State and Local Government"
   ]
  },
  {
   "cell_type": "code",
   "execution_count": 10,
   "id": "eba9b419",
   "metadata": {},
   "outputs": [],
   "source": [
    "df.rename(columns={'admin1': \"state\"}, inplace=True)\n",
    "df.rename(columns={'admin2': \"lga\"}, inplace=True)"
   ]
  },
  {
   "cell_type": "code",
   "execution_count": 11,
   "id": "b86ec84f",
   "metadata": {},
   "outputs": [
    {
     "data": {
      "text/plain": [
       "Index(['date', 'state', 'lga', 'market', 'latitude', 'longitude', 'category',\n",
       "       'commodity', 'unit', 'priceflag', 'pricetype', 'currency', 'price',\n",
       "       'usdprice'],\n",
       "      dtype='object')"
      ]
     },
     "execution_count": 11,
     "metadata": {},
     "output_type": "execute_result"
    }
   ],
   "source": [
    "df.columns"
   ]
  },
  {
   "cell_type": "code",
   "execution_count": 12,
   "id": "102564b1",
   "metadata": {},
   "outputs": [
    {
     "data": {
      "text/html": [
       "<div>\n",
       "<style scoped>\n",
       "    .dataframe tbody tr th:only-of-type {\n",
       "        vertical-align: middle;\n",
       "    }\n",
       "\n",
       "    .dataframe tbody tr th {\n",
       "        vertical-align: top;\n",
       "    }\n",
       "\n",
       "    .dataframe thead th {\n",
       "        text-align: right;\n",
       "    }\n",
       "</style>\n",
       "<table border=\"1\" class=\"dataframe\">\n",
       "  <thead>\n",
       "    <tr style=\"text-align: right;\">\n",
       "      <th></th>\n",
       "      <th>date</th>\n",
       "      <th>state</th>\n",
       "      <th>lga</th>\n",
       "      <th>market</th>\n",
       "      <th>latitude</th>\n",
       "      <th>longitude</th>\n",
       "      <th>category</th>\n",
       "      <th>commodity</th>\n",
       "      <th>unit</th>\n",
       "      <th>priceflag</th>\n",
       "      <th>pricetype</th>\n",
       "      <th>currency</th>\n",
       "      <th>price</th>\n",
       "      <th>usdprice</th>\n",
       "    </tr>\n",
       "  </thead>\n",
       "  <tbody>\n",
       "    <tr>\n",
       "      <th>0</th>\n",
       "      <td>2002-01-15</td>\n",
       "      <td>Katsina</td>\n",
       "      <td>Jibia</td>\n",
       "      <td>Jibia (CBM)</td>\n",
       "      <td>13.08</td>\n",
       "      <td>7.24</td>\n",
       "      <td>cereals and tubers</td>\n",
       "      <td>Maize</td>\n",
       "      <td>KG</td>\n",
       "      <td>actual</td>\n",
       "      <td>Wholesale</td>\n",
       "      <td>NGN</td>\n",
       "      <td>175.92</td>\n",
       "      <td>1.5525</td>\n",
       "    </tr>\n",
       "    <tr>\n",
       "      <th>1</th>\n",
       "      <td>2002-01-15</td>\n",
       "      <td>Katsina</td>\n",
       "      <td>Jibia</td>\n",
       "      <td>Jibia (CBM)</td>\n",
       "      <td>13.08</td>\n",
       "      <td>7.24</td>\n",
       "      <td>cereals and tubers</td>\n",
       "      <td>Millet</td>\n",
       "      <td>KG</td>\n",
       "      <td>actual</td>\n",
       "      <td>Wholesale</td>\n",
       "      <td>NGN</td>\n",
       "      <td>150.18</td>\n",
       "      <td>1.3254</td>\n",
       "    </tr>\n",
       "    <tr>\n",
       "      <th>2</th>\n",
       "      <td>2002-01-15</td>\n",
       "      <td>Katsina</td>\n",
       "      <td>Jibia</td>\n",
       "      <td>Jibia (CBM)</td>\n",
       "      <td>13.08</td>\n",
       "      <td>7.24</td>\n",
       "      <td>cereals and tubers</td>\n",
       "      <td>Rice (imported)</td>\n",
       "      <td>KG</td>\n",
       "      <td>actual</td>\n",
       "      <td>Wholesale</td>\n",
       "      <td>NGN</td>\n",
       "      <td>358.7</td>\n",
       "      <td>3.1656</td>\n",
       "    </tr>\n",
       "    <tr>\n",
       "      <th>3</th>\n",
       "      <td>2002-01-15</td>\n",
       "      <td>Katsina</td>\n",
       "      <td>Jibia</td>\n",
       "      <td>Jibia (CBM)</td>\n",
       "      <td>13.08</td>\n",
       "      <td>7.24</td>\n",
       "      <td>cereals and tubers</td>\n",
       "      <td>Sorghum</td>\n",
       "      <td>KG</td>\n",
       "      <td>actual</td>\n",
       "      <td>Wholesale</td>\n",
       "      <td>NGN</td>\n",
       "      <td>155.61</td>\n",
       "      <td>1.3733</td>\n",
       "    </tr>\n",
       "    <tr>\n",
       "      <th>4</th>\n",
       "      <td>2002-01-15</td>\n",
       "      <td>Katsina</td>\n",
       "      <td>Jibia</td>\n",
       "      <td>Jibia (CBM)</td>\n",
       "      <td>13.08</td>\n",
       "      <td>7.24</td>\n",
       "      <td>pulses and nuts</td>\n",
       "      <td>Beans (niebe)</td>\n",
       "      <td>KG</td>\n",
       "      <td>actual</td>\n",
       "      <td>Wholesale</td>\n",
       "      <td>NGN</td>\n",
       "      <td>196.87</td>\n",
       "      <td>1.7374</td>\n",
       "    </tr>\n",
       "  </tbody>\n",
       "</table>\n",
       "</div>"
      ],
      "text/plain": [
       "         date    state    lga       market latitude longitude  \\\n",
       "0  2002-01-15  Katsina  Jibia  Jibia (CBM)    13.08      7.24   \n",
       "1  2002-01-15  Katsina  Jibia  Jibia (CBM)    13.08      7.24   \n",
       "2  2002-01-15  Katsina  Jibia  Jibia (CBM)    13.08      7.24   \n",
       "3  2002-01-15  Katsina  Jibia  Jibia (CBM)    13.08      7.24   \n",
       "4  2002-01-15  Katsina  Jibia  Jibia (CBM)    13.08      7.24   \n",
       "\n",
       "             category        commodity unit priceflag  pricetype currency  \\\n",
       "0  cereals and tubers            Maize   KG    actual  Wholesale      NGN   \n",
       "1  cereals and tubers           Millet   KG    actual  Wholesale      NGN   \n",
       "2  cereals and tubers  Rice (imported)   KG    actual  Wholesale      NGN   \n",
       "3  cereals and tubers          Sorghum   KG    actual  Wholesale      NGN   \n",
       "4     pulses and nuts    Beans (niebe)   KG    actual  Wholesale      NGN   \n",
       "\n",
       "    price usdprice  \n",
       "0  175.92   1.5525  \n",
       "1  150.18   1.3254  \n",
       "2   358.7   3.1656  \n",
       "3  155.61   1.3733  \n",
       "4  196.87   1.7374  "
      ]
     },
     "execution_count": 12,
     "metadata": {},
     "output_type": "execute_result"
    }
   ],
   "source": [
    "df.head()"
   ]
  },
  {
   "cell_type": "code",
   "execution_count": 13,
   "id": "e2dde160",
   "metadata": {},
   "outputs": [
    {
     "name": "stdout",
     "output_type": "stream",
     "text": [
      "<class 'pandas.core.frame.DataFrame'>\n",
      "RangeIndex: 74421 entries, 0 to 74420\n",
      "Data columns (total 14 columns):\n",
      " #   Column     Non-Null Count  Dtype \n",
      "---  ------     --------------  ----- \n",
      " 0   date       74421 non-null  object\n",
      " 1   state      74421 non-null  object\n",
      " 2   lga        74421 non-null  object\n",
      " 3   market     74421 non-null  object\n",
      " 4   latitude   74421 non-null  object\n",
      " 5   longitude  74421 non-null  object\n",
      " 6   category   74421 non-null  object\n",
      " 7   commodity  74421 non-null  object\n",
      " 8   unit       74421 non-null  object\n",
      " 9   priceflag  74421 non-null  object\n",
      " 10  pricetype  74421 non-null  object\n",
      " 11  currency   74421 non-null  object\n",
      " 12  price      74421 non-null  object\n",
      " 13  usdprice   74421 non-null  object\n",
      "dtypes: object(14)\n",
      "memory usage: 7.9+ MB\n"
     ]
    }
   ],
   "source": [
    "df.info()"
   ]
  },
  {
   "cell_type": "markdown",
   "id": "def22191",
   "metadata": {},
   "source": [
    "###### Convert date to datetime"
   ]
  },
  {
   "cell_type": "code",
   "execution_count": 14,
   "id": "4aa22473",
   "metadata": {},
   "outputs": [],
   "source": [
    "df[\"date\"] = pd.to_datetime(df['date'])\n",
    "\n",
    "df['month']=df['date'].dt.month\n",
    "df['day']=df['date'].dt.day\n",
    "df['year'] = df['date'].dt.year"
   ]
  },
  {
   "cell_type": "code",
   "execution_count": 15,
   "id": "114959ed",
   "metadata": {},
   "outputs": [
    {
     "data": {
      "text/html": [
       "<div>\n",
       "<style scoped>\n",
       "    .dataframe tbody tr th:only-of-type {\n",
       "        vertical-align: middle;\n",
       "    }\n",
       "\n",
       "    .dataframe tbody tr th {\n",
       "        vertical-align: top;\n",
       "    }\n",
       "\n",
       "    .dataframe thead th {\n",
       "        text-align: right;\n",
       "    }\n",
       "</style>\n",
       "<table border=\"1\" class=\"dataframe\">\n",
       "  <thead>\n",
       "    <tr style=\"text-align: right;\">\n",
       "      <th></th>\n",
       "      <th>date</th>\n",
       "      <th>state</th>\n",
       "      <th>lga</th>\n",
       "      <th>market</th>\n",
       "      <th>latitude</th>\n",
       "      <th>longitude</th>\n",
       "      <th>category</th>\n",
       "      <th>commodity</th>\n",
       "      <th>unit</th>\n",
       "      <th>priceflag</th>\n",
       "      <th>pricetype</th>\n",
       "      <th>currency</th>\n",
       "      <th>price</th>\n",
       "      <th>usdprice</th>\n",
       "      <th>month</th>\n",
       "      <th>day</th>\n",
       "      <th>year</th>\n",
       "    </tr>\n",
       "  </thead>\n",
       "  <tbody>\n",
       "    <tr>\n",
       "      <th>0</th>\n",
       "      <td>2002-01-15</td>\n",
       "      <td>Katsina</td>\n",
       "      <td>Jibia</td>\n",
       "      <td>Jibia (CBM)</td>\n",
       "      <td>13.08</td>\n",
       "      <td>7.24</td>\n",
       "      <td>cereals and tubers</td>\n",
       "      <td>Maize</td>\n",
       "      <td>KG</td>\n",
       "      <td>actual</td>\n",
       "      <td>Wholesale</td>\n",
       "      <td>NGN</td>\n",
       "      <td>175.92</td>\n",
       "      <td>1.5525</td>\n",
       "      <td>1</td>\n",
       "      <td>15</td>\n",
       "      <td>2002</td>\n",
       "    </tr>\n",
       "    <tr>\n",
       "      <th>1</th>\n",
       "      <td>2002-01-15</td>\n",
       "      <td>Katsina</td>\n",
       "      <td>Jibia</td>\n",
       "      <td>Jibia (CBM)</td>\n",
       "      <td>13.08</td>\n",
       "      <td>7.24</td>\n",
       "      <td>cereals and tubers</td>\n",
       "      <td>Millet</td>\n",
       "      <td>KG</td>\n",
       "      <td>actual</td>\n",
       "      <td>Wholesale</td>\n",
       "      <td>NGN</td>\n",
       "      <td>150.18</td>\n",
       "      <td>1.3254</td>\n",
       "      <td>1</td>\n",
       "      <td>15</td>\n",
       "      <td>2002</td>\n",
       "    </tr>\n",
       "    <tr>\n",
       "      <th>2</th>\n",
       "      <td>2002-01-15</td>\n",
       "      <td>Katsina</td>\n",
       "      <td>Jibia</td>\n",
       "      <td>Jibia (CBM)</td>\n",
       "      <td>13.08</td>\n",
       "      <td>7.24</td>\n",
       "      <td>cereals and tubers</td>\n",
       "      <td>Rice (imported)</td>\n",
       "      <td>KG</td>\n",
       "      <td>actual</td>\n",
       "      <td>Wholesale</td>\n",
       "      <td>NGN</td>\n",
       "      <td>358.7</td>\n",
       "      <td>3.1656</td>\n",
       "      <td>1</td>\n",
       "      <td>15</td>\n",
       "      <td>2002</td>\n",
       "    </tr>\n",
       "    <tr>\n",
       "      <th>3</th>\n",
       "      <td>2002-01-15</td>\n",
       "      <td>Katsina</td>\n",
       "      <td>Jibia</td>\n",
       "      <td>Jibia (CBM)</td>\n",
       "      <td>13.08</td>\n",
       "      <td>7.24</td>\n",
       "      <td>cereals and tubers</td>\n",
       "      <td>Sorghum</td>\n",
       "      <td>KG</td>\n",
       "      <td>actual</td>\n",
       "      <td>Wholesale</td>\n",
       "      <td>NGN</td>\n",
       "      <td>155.61</td>\n",
       "      <td>1.3733</td>\n",
       "      <td>1</td>\n",
       "      <td>15</td>\n",
       "      <td>2002</td>\n",
       "    </tr>\n",
       "    <tr>\n",
       "      <th>4</th>\n",
       "      <td>2002-01-15</td>\n",
       "      <td>Katsina</td>\n",
       "      <td>Jibia</td>\n",
       "      <td>Jibia (CBM)</td>\n",
       "      <td>13.08</td>\n",
       "      <td>7.24</td>\n",
       "      <td>pulses and nuts</td>\n",
       "      <td>Beans (niebe)</td>\n",
       "      <td>KG</td>\n",
       "      <td>actual</td>\n",
       "      <td>Wholesale</td>\n",
       "      <td>NGN</td>\n",
       "      <td>196.87</td>\n",
       "      <td>1.7374</td>\n",
       "      <td>1</td>\n",
       "      <td>15</td>\n",
       "      <td>2002</td>\n",
       "    </tr>\n",
       "  </tbody>\n",
       "</table>\n",
       "</div>"
      ],
      "text/plain": [
       "        date    state    lga       market latitude longitude  \\\n",
       "0 2002-01-15  Katsina  Jibia  Jibia (CBM)    13.08      7.24   \n",
       "1 2002-01-15  Katsina  Jibia  Jibia (CBM)    13.08      7.24   \n",
       "2 2002-01-15  Katsina  Jibia  Jibia (CBM)    13.08      7.24   \n",
       "3 2002-01-15  Katsina  Jibia  Jibia (CBM)    13.08      7.24   \n",
       "4 2002-01-15  Katsina  Jibia  Jibia (CBM)    13.08      7.24   \n",
       "\n",
       "             category        commodity unit priceflag  pricetype currency  \\\n",
       "0  cereals and tubers            Maize   KG    actual  Wholesale      NGN   \n",
       "1  cereals and tubers           Millet   KG    actual  Wholesale      NGN   \n",
       "2  cereals and tubers  Rice (imported)   KG    actual  Wholesale      NGN   \n",
       "3  cereals and tubers          Sorghum   KG    actual  Wholesale      NGN   \n",
       "4     pulses and nuts    Beans (niebe)   KG    actual  Wholesale      NGN   \n",
       "\n",
       "    price usdprice  month  day  year  \n",
       "0  175.92   1.5525      1   15  2002  \n",
       "1  150.18   1.3254      1   15  2002  \n",
       "2   358.7   3.1656      1   15  2002  \n",
       "3  155.61   1.3733      1   15  2002  \n",
       "4  196.87   1.7374      1   15  2002  "
      ]
     },
     "execution_count": 15,
     "metadata": {},
     "output_type": "execute_result"
    }
   ],
   "source": [
    "df.head()"
   ]
  },
  {
   "cell_type": "code",
   "execution_count": 16,
   "id": "f3ba6777",
   "metadata": {},
   "outputs": [],
   "source": [
    "## Rename the months\n",
    "df['month'] = df['month'].replace({ 1: 'January', 2 : 'February' , 3 : 'March', 4: 'April', 5 : 'May', 6 : 'June', 7 :'July', 8 : 'August', 9: 'September', 10 : 'October', 11 : 'November', 12 : 'December'})"
   ]
  },
  {
   "cell_type": "code",
   "execution_count": 17,
   "id": "887b97e2",
   "metadata": {},
   "outputs": [
    {
     "data": {
      "text/html": [
       "<div>\n",
       "<style scoped>\n",
       "    .dataframe tbody tr th:only-of-type {\n",
       "        vertical-align: middle;\n",
       "    }\n",
       "\n",
       "    .dataframe tbody tr th {\n",
       "        vertical-align: top;\n",
       "    }\n",
       "\n",
       "    .dataframe thead th {\n",
       "        text-align: right;\n",
       "    }\n",
       "</style>\n",
       "<table border=\"1\" class=\"dataframe\">\n",
       "  <thead>\n",
       "    <tr style=\"text-align: right;\">\n",
       "      <th></th>\n",
       "      <th>date</th>\n",
       "      <th>state</th>\n",
       "      <th>lga</th>\n",
       "      <th>market</th>\n",
       "      <th>latitude</th>\n",
       "      <th>longitude</th>\n",
       "      <th>category</th>\n",
       "      <th>commodity</th>\n",
       "      <th>unit</th>\n",
       "      <th>priceflag</th>\n",
       "      <th>pricetype</th>\n",
       "      <th>currency</th>\n",
       "      <th>price</th>\n",
       "      <th>usdprice</th>\n",
       "      <th>month</th>\n",
       "      <th>day</th>\n",
       "      <th>year</th>\n",
       "    </tr>\n",
       "  </thead>\n",
       "  <tbody>\n",
       "    <tr>\n",
       "      <th>0</th>\n",
       "      <td>2002-01-15</td>\n",
       "      <td>Katsina</td>\n",
       "      <td>Jibia</td>\n",
       "      <td>Jibia (CBM)</td>\n",
       "      <td>13.08</td>\n",
       "      <td>7.24</td>\n",
       "      <td>cereals and tubers</td>\n",
       "      <td>Maize</td>\n",
       "      <td>KG</td>\n",
       "      <td>actual</td>\n",
       "      <td>Wholesale</td>\n",
       "      <td>NGN</td>\n",
       "      <td>175.92</td>\n",
       "      <td>1.5525</td>\n",
       "      <td>January</td>\n",
       "      <td>15</td>\n",
       "      <td>2002</td>\n",
       "    </tr>\n",
       "    <tr>\n",
       "      <th>1</th>\n",
       "      <td>2002-01-15</td>\n",
       "      <td>Katsina</td>\n",
       "      <td>Jibia</td>\n",
       "      <td>Jibia (CBM)</td>\n",
       "      <td>13.08</td>\n",
       "      <td>7.24</td>\n",
       "      <td>cereals and tubers</td>\n",
       "      <td>Millet</td>\n",
       "      <td>KG</td>\n",
       "      <td>actual</td>\n",
       "      <td>Wholesale</td>\n",
       "      <td>NGN</td>\n",
       "      <td>150.18</td>\n",
       "      <td>1.3254</td>\n",
       "      <td>January</td>\n",
       "      <td>15</td>\n",
       "      <td>2002</td>\n",
       "    </tr>\n",
       "    <tr>\n",
       "      <th>2</th>\n",
       "      <td>2002-01-15</td>\n",
       "      <td>Katsina</td>\n",
       "      <td>Jibia</td>\n",
       "      <td>Jibia (CBM)</td>\n",
       "      <td>13.08</td>\n",
       "      <td>7.24</td>\n",
       "      <td>cereals and tubers</td>\n",
       "      <td>Rice (imported)</td>\n",
       "      <td>KG</td>\n",
       "      <td>actual</td>\n",
       "      <td>Wholesale</td>\n",
       "      <td>NGN</td>\n",
       "      <td>358.7</td>\n",
       "      <td>3.1656</td>\n",
       "      <td>January</td>\n",
       "      <td>15</td>\n",
       "      <td>2002</td>\n",
       "    </tr>\n",
       "    <tr>\n",
       "      <th>3</th>\n",
       "      <td>2002-01-15</td>\n",
       "      <td>Katsina</td>\n",
       "      <td>Jibia</td>\n",
       "      <td>Jibia (CBM)</td>\n",
       "      <td>13.08</td>\n",
       "      <td>7.24</td>\n",
       "      <td>cereals and tubers</td>\n",
       "      <td>Sorghum</td>\n",
       "      <td>KG</td>\n",
       "      <td>actual</td>\n",
       "      <td>Wholesale</td>\n",
       "      <td>NGN</td>\n",
       "      <td>155.61</td>\n",
       "      <td>1.3733</td>\n",
       "      <td>January</td>\n",
       "      <td>15</td>\n",
       "      <td>2002</td>\n",
       "    </tr>\n",
       "    <tr>\n",
       "      <th>4</th>\n",
       "      <td>2002-01-15</td>\n",
       "      <td>Katsina</td>\n",
       "      <td>Jibia</td>\n",
       "      <td>Jibia (CBM)</td>\n",
       "      <td>13.08</td>\n",
       "      <td>7.24</td>\n",
       "      <td>pulses and nuts</td>\n",
       "      <td>Beans (niebe)</td>\n",
       "      <td>KG</td>\n",
       "      <td>actual</td>\n",
       "      <td>Wholesale</td>\n",
       "      <td>NGN</td>\n",
       "      <td>196.87</td>\n",
       "      <td>1.7374</td>\n",
       "      <td>January</td>\n",
       "      <td>15</td>\n",
       "      <td>2002</td>\n",
       "    </tr>\n",
       "  </tbody>\n",
       "</table>\n",
       "</div>"
      ],
      "text/plain": [
       "        date    state    lga       market latitude longitude  \\\n",
       "0 2002-01-15  Katsina  Jibia  Jibia (CBM)    13.08      7.24   \n",
       "1 2002-01-15  Katsina  Jibia  Jibia (CBM)    13.08      7.24   \n",
       "2 2002-01-15  Katsina  Jibia  Jibia (CBM)    13.08      7.24   \n",
       "3 2002-01-15  Katsina  Jibia  Jibia (CBM)    13.08      7.24   \n",
       "4 2002-01-15  Katsina  Jibia  Jibia (CBM)    13.08      7.24   \n",
       "\n",
       "             category        commodity unit priceflag  pricetype currency  \\\n",
       "0  cereals and tubers            Maize   KG    actual  Wholesale      NGN   \n",
       "1  cereals and tubers           Millet   KG    actual  Wholesale      NGN   \n",
       "2  cereals and tubers  Rice (imported)   KG    actual  Wholesale      NGN   \n",
       "3  cereals and tubers          Sorghum   KG    actual  Wholesale      NGN   \n",
       "4     pulses and nuts    Beans (niebe)   KG    actual  Wholesale      NGN   \n",
       "\n",
       "    price usdprice    month  day  year  \n",
       "0  175.92   1.5525  January   15  2002  \n",
       "1  150.18   1.3254  January   15  2002  \n",
       "2   358.7   3.1656  January   15  2002  \n",
       "3  155.61   1.3733  January   15  2002  \n",
       "4  196.87   1.7374  January   15  2002  "
      ]
     },
     "execution_count": 17,
     "metadata": {},
     "output_type": "execute_result"
    }
   ],
   "source": [
    "df.head()"
   ]
  },
  {
   "cell_type": "markdown",
   "id": "80d74b69",
   "metadata": {},
   "source": [
    "#### Export the Clean Data"
   ]
  },
  {
   "cell_type": "code",
   "execution_count": 3,
   "id": "45bb889d",
   "metadata": {},
   "outputs": [],
   "source": [
    "# Export current clean dataframe\n",
    "df.to_csv(\"data/df_clean.csv\" , index=False)"
   ]
  },
  {
   "cell_type": "markdown",
   "id": "6c520a04",
   "metadata": {},
   "source": [
    "#### import the Clean Data"
   ]
  },
  {
   "cell_type": "code",
   "execution_count": 5,
   "id": "3a0131f6",
   "metadata": {},
   "outputs": [],
   "source": [
    "df = pd.read_csv(\"data/df_clean.csv\")"
   ]
  },
  {
   "cell_type": "code",
   "execution_count": 8,
   "id": "93151bc6",
   "metadata": {},
   "outputs": [],
   "source": [
    "df['country'] = 'Nigeria'"
   ]
  },
  {
   "cell_type": "code",
   "execution_count": 9,
   "id": "8c18c887",
   "metadata": {},
   "outputs": [
    {
     "data": {
      "text/html": [
       "<div>\n",
       "<style scoped>\n",
       "    .dataframe tbody tr th:only-of-type {\n",
       "        vertical-align: middle;\n",
       "    }\n",
       "\n",
       "    .dataframe tbody tr th {\n",
       "        vertical-align: top;\n",
       "    }\n",
       "\n",
       "    .dataframe thead th {\n",
       "        text-align: right;\n",
       "    }\n",
       "</style>\n",
       "<table border=\"1\" class=\"dataframe\">\n",
       "  <thead>\n",
       "    <tr style=\"text-align: right;\">\n",
       "      <th></th>\n",
       "      <th>date</th>\n",
       "      <th>state</th>\n",
       "      <th>lga</th>\n",
       "      <th>market</th>\n",
       "      <th>latitude</th>\n",
       "      <th>longitude</th>\n",
       "      <th>category</th>\n",
       "      <th>commodity</th>\n",
       "      <th>unit</th>\n",
       "      <th>priceflag</th>\n",
       "      <th>pricetype</th>\n",
       "      <th>currency</th>\n",
       "      <th>price</th>\n",
       "      <th>usdprice</th>\n",
       "      <th>month</th>\n",
       "      <th>day</th>\n",
       "      <th>year</th>\n",
       "      <th>country</th>\n",
       "    </tr>\n",
       "  </thead>\n",
       "  <tbody>\n",
       "    <tr>\n",
       "      <th>0</th>\n",
       "      <td>2002-01-15</td>\n",
       "      <td>Katsina</td>\n",
       "      <td>Jibia</td>\n",
       "      <td>Jibia (CBM)</td>\n",
       "      <td>13.08</td>\n",
       "      <td>7.24</td>\n",
       "      <td>cereals and tubers</td>\n",
       "      <td>Maize</td>\n",
       "      <td>KG</td>\n",
       "      <td>actual</td>\n",
       "      <td>Wholesale</td>\n",
       "      <td>NGN</td>\n",
       "      <td>175.92</td>\n",
       "      <td>1.5525</td>\n",
       "      <td>January</td>\n",
       "      <td>15</td>\n",
       "      <td>2002</td>\n",
       "      <td>Nigeria</td>\n",
       "    </tr>\n",
       "    <tr>\n",
       "      <th>1</th>\n",
       "      <td>2002-01-15</td>\n",
       "      <td>Katsina</td>\n",
       "      <td>Jibia</td>\n",
       "      <td>Jibia (CBM)</td>\n",
       "      <td>13.08</td>\n",
       "      <td>7.24</td>\n",
       "      <td>cereals and tubers</td>\n",
       "      <td>Millet</td>\n",
       "      <td>KG</td>\n",
       "      <td>actual</td>\n",
       "      <td>Wholesale</td>\n",
       "      <td>NGN</td>\n",
       "      <td>150.18</td>\n",
       "      <td>1.3254</td>\n",
       "      <td>January</td>\n",
       "      <td>15</td>\n",
       "      <td>2002</td>\n",
       "      <td>Nigeria</td>\n",
       "    </tr>\n",
       "    <tr>\n",
       "      <th>2</th>\n",
       "      <td>2002-01-15</td>\n",
       "      <td>Katsina</td>\n",
       "      <td>Jibia</td>\n",
       "      <td>Jibia (CBM)</td>\n",
       "      <td>13.08</td>\n",
       "      <td>7.24</td>\n",
       "      <td>cereals and tubers</td>\n",
       "      <td>Rice (imported)</td>\n",
       "      <td>KG</td>\n",
       "      <td>actual</td>\n",
       "      <td>Wholesale</td>\n",
       "      <td>NGN</td>\n",
       "      <td>358.70</td>\n",
       "      <td>3.1656</td>\n",
       "      <td>January</td>\n",
       "      <td>15</td>\n",
       "      <td>2002</td>\n",
       "      <td>Nigeria</td>\n",
       "    </tr>\n",
       "    <tr>\n",
       "      <th>3</th>\n",
       "      <td>2002-01-15</td>\n",
       "      <td>Katsina</td>\n",
       "      <td>Jibia</td>\n",
       "      <td>Jibia (CBM)</td>\n",
       "      <td>13.08</td>\n",
       "      <td>7.24</td>\n",
       "      <td>cereals and tubers</td>\n",
       "      <td>Sorghum</td>\n",
       "      <td>KG</td>\n",
       "      <td>actual</td>\n",
       "      <td>Wholesale</td>\n",
       "      <td>NGN</td>\n",
       "      <td>155.61</td>\n",
       "      <td>1.3733</td>\n",
       "      <td>January</td>\n",
       "      <td>15</td>\n",
       "      <td>2002</td>\n",
       "      <td>Nigeria</td>\n",
       "    </tr>\n",
       "    <tr>\n",
       "      <th>4</th>\n",
       "      <td>2002-01-15</td>\n",
       "      <td>Katsina</td>\n",
       "      <td>Jibia</td>\n",
       "      <td>Jibia (CBM)</td>\n",
       "      <td>13.08</td>\n",
       "      <td>7.24</td>\n",
       "      <td>pulses and nuts</td>\n",
       "      <td>Beans (niebe)</td>\n",
       "      <td>KG</td>\n",
       "      <td>actual</td>\n",
       "      <td>Wholesale</td>\n",
       "      <td>NGN</td>\n",
       "      <td>196.87</td>\n",
       "      <td>1.7374</td>\n",
       "      <td>January</td>\n",
       "      <td>15</td>\n",
       "      <td>2002</td>\n",
       "      <td>Nigeria</td>\n",
       "    </tr>\n",
       "  </tbody>\n",
       "</table>\n",
       "</div>"
      ],
      "text/plain": [
       "         date    state    lga       market  latitude  longitude  \\\n",
       "0  2002-01-15  Katsina  Jibia  Jibia (CBM)     13.08       7.24   \n",
       "1  2002-01-15  Katsina  Jibia  Jibia (CBM)     13.08       7.24   \n",
       "2  2002-01-15  Katsina  Jibia  Jibia (CBM)     13.08       7.24   \n",
       "3  2002-01-15  Katsina  Jibia  Jibia (CBM)     13.08       7.24   \n",
       "4  2002-01-15  Katsina  Jibia  Jibia (CBM)     13.08       7.24   \n",
       "\n",
       "             category        commodity unit priceflag  pricetype currency  \\\n",
       "0  cereals and tubers            Maize   KG    actual  Wholesale      NGN   \n",
       "1  cereals and tubers           Millet   KG    actual  Wholesale      NGN   \n",
       "2  cereals and tubers  Rice (imported)   KG    actual  Wholesale      NGN   \n",
       "3  cereals and tubers          Sorghum   KG    actual  Wholesale      NGN   \n",
       "4     pulses and nuts    Beans (niebe)   KG    actual  Wholesale      NGN   \n",
       "\n",
       "    price  usdprice    month  day  year  country  \n",
       "0  175.92    1.5525  January   15  2002  Nigeria  \n",
       "1  150.18    1.3254  January   15  2002  Nigeria  \n",
       "2  358.70    3.1656  January   15  2002  Nigeria  \n",
       "3  155.61    1.3733  January   15  2002  Nigeria  \n",
       "4  196.87    1.7374  January   15  2002  Nigeria  "
      ]
     },
     "execution_count": 9,
     "metadata": {},
     "output_type": "execute_result"
    }
   ],
   "source": [
    "df.head()"
   ]
  },
  {
   "cell_type": "code",
   "execution_count": 10,
   "id": "a8a934d1",
   "metadata": {},
   "outputs": [],
   "source": [
    "# Export current clean dataframe\n",
    "df.to_csv(\"data/df_clean1.csv\" , index=False)"
   ]
  },
  {
   "cell_type": "markdown",
   "id": "bbc9d921",
   "metadata": {},
   "source": [
    "## Exploratory Data Analysis"
   ]
  },
  {
   "cell_type": "code",
   "execution_count": 9,
   "id": "3b93c887",
   "metadata": {},
   "outputs": [
    {
     "data": {
      "text/plain": [
       "array(['January', 'February', 'March', 'April', 'May', 'June', 'July',\n",
       "       'August', 'September', 'October', 'November', 'December'],\n",
       "      dtype=object)"
      ]
     },
     "execution_count": 9,
     "metadata": {},
     "output_type": "execute_result"
    }
   ],
   "source": [
    "df['month'].unique()"
   ]
  },
  {
   "cell_type": "code",
   "execution_count": 10,
   "id": "2ad2b88c",
   "metadata": {},
   "outputs": [
    {
     "data": {
      "text/plain": [
       "February     6777\n",
       "May          6627\n",
       "March        6551\n",
       "January      6393\n",
       "October      6350\n",
       "April        6294\n",
       "December     6283\n",
       "November     6220\n",
       "June         6078\n",
       "September    5924\n",
       "July         5487\n",
       "August       5437\n",
       "Name: month, dtype: int64"
      ]
     },
     "execution_count": 10,
     "metadata": {},
     "output_type": "execute_result"
    }
   ],
   "source": [
    "df['month'].value_counts()"
   ]
  },
  {
   "cell_type": "code",
   "execution_count": 12,
   "id": "4d38cdb8",
   "metadata": {},
   "outputs": [
    {
     "data": {
      "image/png": "[encoded data removed]",
      "text/plain": [
       "<Figure size 432x288 with 1 Axes>"
      ]
     },
     "metadata": {
      "needs_background": "light"
     },
     "output_type": "display_data"
    },
    {
     "data": {
      "text/plain": [
       "<Figure size 432x288 with 0 Axes>"
      ]
     },
     "metadata": {},
     "output_type": "display_data"
    }
   ],
   "source": [
    "import matplotlib.pyplot as plt\n",
    "import pandas as pd\n",
    "\n",
    "# Sample data\n",
    "data = df['month']\n",
    "\n",
    "# Count occurrences of each category\n",
    "category_counts = pd.Series(data).value_counts()\n",
    "\n",
    "\n",
    "# Create the horizontal bar plot\n",
    "plt.barh(category_counts.index, category_counts.values)\n",
    "\n",
    "# Add labels and title\n",
    "plt.xlabel('Count')\n",
    "plt.ylabel('Months')\n",
    "plt.title('Months in a Year')\n",
    "\n",
    "# Display the plot\n",
    "plt.show()\n",
    "plt.savefig(\"year_bar.png\")"
   ]
  },
  {
   "cell_type": "code",
   "execution_count": 24,
   "id": "10ca028f",
   "metadata": {},
   "outputs": [
    {
     "data": {
      "image/png": "[encoded data removed]",
      "text/plain": [
       "<Figure size 432x288 with 1 Axes>"
      ]
     },
     "metadata": {},
     "output_type": "display_data"
    }
   ],
   "source": [
    "df['month'].value_counts().plot(kind='pie',autopct='%1.1f%%')\n",
    "plt.title('Months in a Year')\n",
    "plt.savefig(\"year_pie.png\")"
   ]
  },
  {
   "cell_type": "code",
   "execution_count": 48,
   "id": "71890c0a",
   "metadata": {},
   "outputs": [
    {
     "data": {
      "text/plain": [
       "array([2002, 2003, 2004, 2005, 2006, 2007, 2008, 2009, 2010, 2011, 2012,\n",
       "       2013, 2014, 2015, 2016, 2017, 2018, 2019, 2020, 2021, 2022, 2023],\n",
       "      dtype=int64)"
      ]
     },
     "execution_count": 48,
     "metadata": {},
     "output_type": "execute_result"
    }
   ],
   "source": [
    "df['year'].unique()"
   ]
  },
  {
   "cell_type": "code",
   "execution_count": 49,
   "id": "147784b0",
   "metadata": {},
   "outputs": [
    {
     "data": {
      "text/plain": [
       "2021    13414\n",
       "2022    12565\n",
       "2020     9655\n",
       "2019     9054\n",
       "2018     7990\n",
       "2017     7355\n",
       "2016     4296\n",
       "2023     3222\n",
       "2015     3064\n",
       "2014     1464\n",
       "2013      401\n",
       "2012      320\n",
       "2010      267\n",
       "2011      264\n",
       "2008      214\n",
       "2009      191\n",
       "2005      186\n",
       "2003      171\n",
       "2002      121\n",
       "2006       99\n",
       "2007       74\n",
       "2004       34\n",
       "Name: year, dtype: int64"
      ]
     },
     "execution_count": 49,
     "metadata": {},
     "output_type": "execute_result"
    }
   ],
   "source": [
    "df['year'].value_counts()"
   ]
  },
  {
   "cell_type": "code",
   "execution_count": 14,
   "id": "3d0552c3",
   "metadata": {},
   "outputs": [
    {
     "data": {
      "image/png": "[encoded data removed]",
      "text/plain": [
       "<Figure size 432x288 with 1 Axes>"
      ]
     },
     "metadata": {
      "needs_background": "light"
     },
     "output_type": "display_data"
    },
    {
     "data": {
      "text/plain": [
       "<Figure size 432x288 with 0 Axes>"
      ]
     },
     "metadata": {},
     "output_type": "display_data"
    }
   ],
   "source": [
    "import matplotlib.pyplot as plt\n",
    "import pandas as pd\n",
    "\n",
    "# Sample data\n",
    "data = df['year']\n",
    "\n",
    "# Count occurrences of each category\n",
    "category_counts = pd.Series(data).value_counts()[:20]\n",
    "#plt.figure(figsize=(12,6))df[df[\"type\"]==\"Movie\"][\"release_year\"].value_counts()[:20].plot(kind=\"bar\",color=\"Red\")\n",
    "\n",
    "\n",
    "# Create the horizontal bar plot\n",
    "plt.barh(category_counts.index, category_counts.values)\n",
    "\n",
    "# Add labels and title\n",
    "plt.xlabel('Count')\n",
    "plt.ylabel('years')\n",
    "plt.title('Horizontal Bar Graph')\n",
    "\n",
    "# Display the plot\n",
    "plt.show()\n",
    "plt.savefig(\"year_bar.png\")"
   ]
  },
  {
   "cell_type": "code",
   "execution_count": 25,
   "id": "c8926089",
   "metadata": {},
   "outputs": [
    {
     "data": {
      "image/png": "[encoded data removed]",
      "text/plain": [
       "<Figure size 432x288 with 1 Axes>"
      ]
     },
     "metadata": {},
     "output_type": "display_data"
    }
   ],
   "source": [
    "df['year'].value_counts()[:10].plot(kind='pie',autopct='%1.1f%%')\n",
    "plt.title('Year')\n",
    "plt.savefig(\"year_pie.jpg\")"
   ]
  },
  {
   "cell_type": "code",
   "execution_count": 95,
   "id": "e4040e8a",
   "metadata": {},
   "outputs": [
    {
     "data": {
      "text/plain": [
       "array(['Katsina', 'Sokoto', 'Borno', 'Kano', 'Jigawa', 'Oyo', 'Lagos',\n",
       "       'Kaduna', 'Zamfara', 'Abia', 'Gombe', 'Kebbi', 'Adamawa', 'Yobe'],\n",
       "      dtype=object)"
      ]
     },
     "execution_count": 95,
     "metadata": {},
     "output_type": "execute_result"
    }
   ],
   "source": [
    "df['state'].unique()"
   ]
  },
  {
   "cell_type": "code",
   "execution_count": 96,
   "id": "7eaeb21f",
   "metadata": {},
   "outputs": [
    {
     "data": {
      "text/plain": [
       "Yobe       22753\n",
       "Borno      19388\n",
       "Kaduna      4847\n",
       "Katsina     3638\n",
       "Kano        2956\n",
       "Oyo         2837\n",
       "Jigawa      2734\n",
       "Zamfara     2716\n",
       "Kebbi       2702\n",
       "Gombe       2699\n",
       "Lagos       2556\n",
       "Adamawa     2359\n",
       "Abia        1602\n",
       "Sokoto       633\n",
       "Name: state, dtype: int64"
      ]
     },
     "execution_count": 96,
     "metadata": {},
     "output_type": "execute_result"
    }
   ],
   "source": [
    "df['state'].value_counts()"
   ]
  },
  {
   "cell_type": "code",
   "execution_count": 51,
   "id": "c9c45123",
   "metadata": {},
   "outputs": [
    {
     "data": {
      "image/png": "[encoded data removed]",
      "text/plain": [
       "<Figure size 432x288 with 1 Axes>"
      ]
     },
     "metadata": {
      "needs_background": "light"
     },
     "output_type": "display_data"
    }
   ],
   "source": [
    "import matplotlib.pyplot as plt\n",
    "import pandas as pd\n",
    "\n",
    "# Sample data\n",
    "data = df['state']\n",
    "\n",
    "# Count occurrences of each category\n",
    "category_counts = pd.Series(data).value_counts()\n",
    "\n",
    "\n",
    "# Create the horizontal bar plot\n",
    "plt.barh(category_counts.index, category_counts.values)\n",
    "\n",
    "# Add labels and title\n",
    "plt.xlabel('Count')\n",
    "plt.ylabel('States')\n",
    "plt.title('Horizontal Bar Graph')\n",
    "\n",
    "# Display the plot\n",
    "plt.show()"
   ]
  },
  {
   "cell_type": "code",
   "execution_count": 30,
   "id": "f7d1c3c3",
   "metadata": {},
   "outputs": [
    {
     "data": {
      "image/png": "[encoded data removed]",
      "text/plain": [
       "<Figure size 432x288 with 1 Axes>"
      ]
     },
     "metadata": {},
     "output_type": "display_data"
    }
   ],
   "source": [
    "df['state'].value_counts()[:8].plot(kind='pie',autopct='%1.1f%%')\n",
    "plt.title('State')\n",
    "plt.savefig(\"state_pie.jpg\")"
   ]
  },
  {
   "cell_type": "code",
   "execution_count": 99,
   "id": "f9de5a9c",
   "metadata": {},
   "outputs": [
    {
     "data": {
      "text/plain": [
       "array(['Jibia (CBM)', 'Illela (CBM)', 'Mai Adoua (CBM)',\n",
       "       'Damassack (CBM)', 'Dawanau', 'Mai Gatari (CBM)', 'Ibadan',\n",
       "       'Maiduguri', 'Lagos', 'Giwa', 'Kaura Namoda', 'Aba', 'Gombe',\n",
       "       'Gujungu', 'Saminaka', 'Dandume', 'Gwandu', 'Mubi', 'Biu',\n",
       "       'Damaturu', 'Potiskum', 'Abba Gamaram', 'Baga Road', 'Bullunkutu',\n",
       "       'Budum', 'Custom', 'Kusawam Shanu', 'Monday', 'Tashan Bama',\n",
       "       'Bolori Stores', 'Damaturu (Sunday Market)', 'Geidam',\n",
       "       'Gujba (Buni Yadi)', 'Jakusko', 'Bade (Gashua)', 'Nguru',\n",
       "       'Yunusari', 'Yusufari', 'Bursari', 'Gulani (Tettaba)'],\n",
       "      dtype=object)"
      ]
     },
     "execution_count": 99,
     "metadata": {},
     "output_type": "execute_result"
    }
   ],
   "source": [
    "df['market'].unique()"
   ]
  },
  {
   "cell_type": "code",
   "execution_count": 100,
   "id": "a91cf7d9",
   "metadata": {},
   "outputs": [
    {
     "data": {
      "text/plain": [
       "Potiskum                    3888\n",
       "Dawanau                     2956\n",
       "Ibadan                      2837\n",
       "Maiduguri                   2766\n",
       "Kaura Namoda                2716\n",
       "Gwandu                      2702\n",
       "Gombe                       2699\n",
       "Lagos                       2556\n",
       "Damaturu                    2548\n",
       "Dandume                     2529\n",
       "Giwa                        2499\n",
       "Biu                         2452\n",
       "Gujungu                     2385\n",
       "Mubi                        2359\n",
       "Saminaka                    2348\n",
       "Baga Road                   1825\n",
       "Budum                       1812\n",
       "Abba Gamaram                1810\n",
       "Monday                      1806\n",
       "Tashan Bama                 1799\n",
       "Custom                      1797\n",
       "Geidam                      1689\n",
       "Nguru                       1684\n",
       "Bade (Gashua)               1683\n",
       "Damaturu (Sunday Market)    1678\n",
       "Bursari                     1654\n",
       "Yunusari                    1648\n",
       "Jakusko                     1629\n",
       "Yusufari                    1621\n",
       "Aba                         1602\n",
       "Gujba (Buni Yadi)           1525\n",
       "Gulani (Tettaba)            1506\n",
       "Kusawam Shanu               1442\n",
       "Bullunkutu                  1440\n",
       "Illela (CBM)                 633\n",
       "Mai Adoua (CBM)              584\n",
       "Jibia (CBM)                  525\n",
       "Damassack (CBM)              361\n",
       "Mai Gatari (CBM)             349\n",
       "Bolori Stores                 78\n",
       "Name: market, dtype: int64"
      ]
     },
     "execution_count": 100,
     "metadata": {},
     "output_type": "execute_result"
    }
   ],
   "source": [
    "df['market'].value_counts()"
   ]
  },
  {
   "cell_type": "code",
   "execution_count": 33,
   "id": "174b5b0f",
   "metadata": {},
   "outputs": [
    {
     "data": {
      "image/png": "[encoded data removed]",
      "text/plain": [
       "<Figure size 432x288 with 1 Axes>"
      ]
     },
     "metadata": {
      "needs_background": "light"
     },
     "output_type": "display_data"
    },
    {
     "data": {
      "text/plain": [
       "<Figure size 432x288 with 0 Axes>"
      ]
     },
     "metadata": {},
     "output_type": "display_data"
    }
   ],
   "source": [
    "import matplotlib.pyplot as plt\n",
    "import pandas as pd\n",
    "\n",
    "# Sample data\n",
    "data = df['market']\n",
    "\n",
    "# Count occurrences of each category\n",
    "category_counts = pd.Series(data).value_counts()[:10]\n",
    "\n",
    "\n",
    "# Create the horizontal bar plot\n",
    "plt.barh(category_counts.index, category_counts.values)\n",
    "\n",
    "# Add labels and title\n",
    "plt.xlabel('Count')\n",
    "plt.ylabel('States')\n",
    "plt.title('Horizontal Bar Graph For Top 10 State')\n",
    "# Display the plot\n",
    "plt.show()\n",
    "plt.savefig(\"state_bar.jpg\")"
   ]
  },
  {
   "cell_type": "code",
   "execution_count": 34,
   "id": "5225f65f",
   "metadata": {},
   "outputs": [
    {
     "data": {
      "image/png": "[encoded data removed]",
      "text/plain": [
       "<Figure size 432x288 with 1 Axes>"
      ]
     },
     "metadata": {},
     "output_type": "display_data"
    }
   ],
   "source": [
    "df['market'].value_counts()[:10].plot(kind='pie',autopct='%1.1f%%')\n",
    "plt.savefig(\"market_pie.jpg\")"
   ]
  },
  {
   "cell_type": "code",
   "execution_count": 39,
   "id": "00560bb0",
   "metadata": {},
   "outputs": [
    {
     "data": {
      "text/plain": [
       "array(['cereals and tubers', 'pulses and nuts', 'non-food',\n",
       "       'oil and fats', 'meat, fish and eggs', 'milk and dairy',\n",
       "       'vegetables and fruits', 'miscellaneous food'], dtype=object)"
      ]
     },
     "execution_count": 39,
     "metadata": {},
     "output_type": "execute_result"
    }
   ],
   "source": [
    "df['category'].unique()"
   ]
  },
  {
   "cell_type": "code",
   "execution_count": 40,
   "id": "7d779178",
   "metadata": {},
   "outputs": [
    {
     "data": {
      "text/plain": [
       "cereals and tubers       37761\n",
       "pulses and nuts          12661\n",
       "vegetables and fruits     7437\n",
       "meat, fish and eggs       5259\n",
       "oil and fats              4381\n",
       "non-food                  3295\n",
       "miscellaneous food        2304\n",
       "milk and dairy            1322\n",
       "Name: category, dtype: int64"
      ]
     },
     "execution_count": 40,
     "metadata": {},
     "output_type": "execute_result"
    }
   ],
   "source": [
    "df['category'].value_counts()"
   ]
  },
  {
   "cell_type": "code",
   "execution_count": 109,
   "id": "2cd6033f",
   "metadata": {},
   "outputs": [
    {
     "data": {
      "image/png": "[encoded data removed]",
      "text/plain": [
       "<Figure size 432x288 with 1 Axes>"
      ]
     },
     "metadata": {
      "needs_background": "light"
     },
     "output_type": "display_data"
    }
   ],
   "source": [
    "import matplotlib.pyplot as plt\n",
    "import pandas as pd\n",
    "\n",
    "# Sample data\n",
    "data = df['category']\n",
    "\n",
    "# Count occurrences of each category\n",
    "category_counts = pd.Series(data).value_counts()\n",
    "\n",
    "\n",
    "# Create the horizontal bar plot\n",
    "plt.barh(category_counts.index, category_counts.values)\n",
    "\n",
    "# Add labels and title\n",
    "plt.xlabel('Count')\n",
    "plt.ylabel('category')\n",
    "plt.title('Food Category')\n",
    "\n",
    "# Display the plot\n",
    "plt.show()"
   ]
  },
  {
   "cell_type": "code",
   "execution_count": 36,
   "id": "a7afa4b0",
   "metadata": {},
   "outputs": [
    {
     "data": {
      "image/png": "[encoded data removed]",
      "text/plain": [
       "<Figure size 432x288 with 1 Axes>"
      ]
     },
     "metadata": {},
     "output_type": "display_data"
    }
   ],
   "source": [
    "df['category'].value_counts()[:10].plot(kind='pie',autopct='%1.1f%%')\n",
    "plt.title('Food Category')\n",
    "plt.savefig(\"food_category_pie.jpg\")"
   ]
  },
  {
   "cell_type": "code",
   "execution_count": 43,
   "id": "9970d7fe",
   "metadata": {},
   "outputs": [
    {
     "data": {
      "text/plain": [
       "array(['Millet', 'Rice (imported)', 'Sorghum', 'Beans (niebe)', 'Maize',\n",
       "       'Wheat', 'Maize (white)', 'Sorghum (white)',\n",
       "       'Rice (milled, local)', 'Bread', 'Cassava meal (gari, yellow)',\n",
       "       'Gari (white)', 'Maize (yellow)', 'Rice (local)',\n",
       "       'Sorghum (brown)', 'Yam (Abuja)', 'Fuel (diesel)',\n",
       "       'Fuel (petrol-gasoline)', 'Oil (palm)', 'Cowpeas (brown)',\n",
       "       'Cowpeas (white)', 'Yam', 'Groundnuts (shelled)', 'Maize flour',\n",
       "       'Meat (beef)', 'Meat (goat)', 'Milk', 'Oil (vegetable)',\n",
       "       'Beans (red)', 'Beans (white)', 'Groundnuts', 'Onions', 'Fish',\n",
       "       'Eggs', 'Bananas', 'Oranges', 'Spinach', 'Watermelons', 'Cowpeas',\n",
       "       'Tomatoes', 'Salt', 'Sugar'], dtype=object)"
      ]
     },
     "execution_count": 43,
     "metadata": {},
     "output_type": "execute_result"
    }
   ],
   "source": [
    "df['commodity'].unique()"
   ]
  },
  {
   "cell_type": "code",
   "execution_count": 44,
   "id": "46bd22ab",
   "metadata": {},
   "outputs": [
    {
     "data": {
      "text/plain": [
       "Millet                         4631\n",
       "Rice (imported)                4307\n",
       "Rice (local)                   3863\n",
       "Yam                            3694\n",
       "Oil (palm)                     3052\n",
       "Maize (white)                  2856\n",
       "Sorghum (white)                2786\n",
       "Cowpeas (white)                2608\n",
       "Groundnuts (shelled)           2565\n",
       "Sorghum (brown)                2556\n",
       "Gari (white)                   2500\n",
       "Maize (yellow)                 2465\n",
       "Cowpeas (brown)                2425\n",
       "Cassava meal (gari, yellow)    2223\n",
       "Sorghum                        1882\n",
       "Fuel (petrol-gasoline)         1652\n",
       "Fuel (diesel)                  1643\n",
       "Bread                          1561\n",
       "Beans (white)                  1339\n",
       "Groundnuts                     1333\n",
       "Oil (vegetable)                1329\n",
       "Meat (beef)                    1328\n",
       "Meat (goat)                    1325\n",
       "Milk                           1322\n",
       "Beans (red)                    1320\n",
       "Maize flour                    1320\n",
       "Onions                         1313\n",
       "Fish                           1313\n",
       "Oranges                        1293\n",
       "Eggs                           1293\n",
       "Watermelons                    1292\n",
       "Bananas                        1280\n",
       "Tomatoes                       1186\n",
       "Salt                           1152\n",
       "Sugar                          1152\n",
       "Spinach                        1073\n",
       "Cowpeas                        1047\n",
       "Maize                           591\n",
       "Rice (milled, local)            375\n",
       "Yam (Abuja)                      82\n",
       "Wheat                            69\n",
       "Beans (niebe)                    24\n",
       "Name: commodity, dtype: int64"
      ]
     },
     "execution_count": 44,
     "metadata": {},
     "output_type": "execute_result"
    }
   ],
   "source": [
    "df['commodity'].value_counts()"
   ]
  },
  {
   "cell_type": "code",
   "execution_count": 114,
   "id": "0577d981",
   "metadata": {},
   "outputs": [
    {
     "data": {
      "image/png": "[encoded data removed]",
      "text/plain": [
       "<Figure size 432x288 with 1 Axes>"
      ]
     },
     "metadata": {
      "needs_background": "light"
     },
     "output_type": "display_data"
    }
   ],
   "source": [
    "import matplotlib.pyplot as plt\n",
    "import pandas as pd\n",
    "\n",
    "# Sample data\n",
    "data = df['commodity']\n",
    "\n",
    "# Count occurrences of each category\n",
    "category_counts = pd.Series(data).value_counts()[:10]\n",
    "\n",
    "\n",
    "# Create the horizontal bar plot\n",
    "plt.barh(category_counts.index, category_counts.values)\n",
    "\n",
    "# Add labels and title\n",
    "plt.xlabel('Count')\n",
    "plt.ylabel('commodity')\n",
    "plt.title('Horizontal Bar Graph For Food Commodity')\n",
    "\n",
    "# Display the plot\n",
    "plt.show()"
   ]
  },
  {
   "cell_type": "code",
   "execution_count": 112,
   "id": "9ac89c80",
   "metadata": {},
   "outputs": [
    {
     "data": {
      "text/plain": [
       "<AxesSubplot:ylabel='commodity'>"
      ]
     },
     "execution_count": 112,
     "metadata": {},
     "output_type": "execute_result"
    },
    {
     "data": {
      "image/png": "[encoded data removed]",
      "text/plain": [
       "<Figure size 432x432 with 1 Axes>"
      ]
     },
     "metadata": {},
     "output_type": "display_data"
    }
   ],
   "source": [
    "df['commodity'].value_counts()[:10].plot(kind='pie',autopct='%1.1f%%', figsize=(6,6))"
   ]
  },
  {
   "cell_type": "code",
   "execution_count": 47,
   "id": "b9097fba",
   "metadata": {},
   "outputs": [
    {
     "data": {
      "text/plain": [
       "array(['KG', '100 KG', '50 KG', 'Unit', 'L', '100 L', '1.3 KG', '1.4 KG',\n",
       "       '3.4 KG', '20 G', '750 ML', '1.1 KG', '0.5 KG', '1.5 KG', '30 pcs',\n",
       "       '400 G', '300 G', '2.1 KG', '3.1 KG', '1.2 KG', '250 G',\n",
       "       '100 Tubers'], dtype=object)"
      ]
     },
     "execution_count": 47,
     "metadata": {},
     "output_type": "execute_result"
    }
   ],
   "source": [
    "df['unit'].unique()"
   ]
  },
  {
   "cell_type": "code",
   "execution_count": 48,
   "id": "d8819dbf",
   "metadata": {},
   "outputs": [
    {
     "data": {
      "text/plain": [
       "100 KG        18389\n",
       "KG            17806\n",
       "1.3 KG         5999\n",
       "L              4907\n",
       "1.4 KG         4376\n",
       "1.2 KG         3647\n",
       "750 ML         2664\n",
       "400 G          2018\n",
       "50 KG          1892\n",
       "0.5 KG         1774\n",
       "Unit           1561\n",
       "20 G           1322\n",
       "30 pcs         1293\n",
       "2.1 KG         1292\n",
       "250 G          1152\n",
       "300 G          1073\n",
       "3.1 KG          728\n",
       "100 Tubers      650\n",
       "1.1 KG          600\n",
       "3.4 KG          594\n",
       "1.5 KG          590\n",
       "100 L            93\n",
       "Name: unit, dtype: int64"
      ]
     },
     "execution_count": 48,
     "metadata": {},
     "output_type": "execute_result"
    }
   ],
   "source": [
    "df['unit'].value_counts()"
   ]
  },
  {
   "cell_type": "code",
   "execution_count": 79,
   "id": "b34cb4bb",
   "metadata": {},
   "outputs": [
    {
     "data": {
      "image/png": "[encoded data removed]",
      "text/plain": [
       "<Figure size 432x288 with 1 Axes>"
      ]
     },
     "metadata": {
      "needs_background": "light"
     },
     "output_type": "display_data"
    }
   ],
   "source": [
    "import matplotlib.pyplot as plt\n",
    "import pandas as pd\n",
    "\n",
    "# Sample data\n",
    "data = df['unit']\n",
    "\n",
    "# Count occurrences of each category\n",
    "category_counts = pd.Series(data).value_counts()\n",
    "\n",
    "\n",
    "# Create the horizontal bar plot\n",
    "plt.barh(category_counts.index, category_counts.values)\n",
    "\n",
    "# Add labels and title\n",
    "plt.xlabel('Count')\n",
    "plt.ylabel('units')\n",
    "plt.title('Horizontal Bar Graph')\n",
    "\n",
    "# Display the plot\n",
    "plt.show()"
   ]
  },
  {
   "cell_type": "code",
   "execution_count": 113,
   "id": "f6265e74",
   "metadata": {},
   "outputs": [
    {
     "data": {
      "text/plain": [
       "<AxesSubplot:ylabel='unit'>"
      ]
     },
     "execution_count": 113,
     "metadata": {},
     "output_type": "execute_result"
    },
    {
     "data": {
      "image/png": "[encoded data removed]",
      "text/plain": [
       "<Figure size 432x432 with 1 Axes>"
      ]
     },
     "metadata": {},
     "output_type": "display_data"
    }
   ],
   "source": [
    "df['unit'].value_counts()[:10].plot(kind='pie',autopct='%1.1f%%', figsize=(6,6))"
   ]
  },
  {
   "cell_type": "code",
   "execution_count": 51,
   "id": "72562d7e",
   "metadata": {},
   "outputs": [
    {
     "data": {
      "text/plain": [
       "array(['actual', 'actual,aggregate', 'aggregate', 'forecast'],\n",
       "      dtype=object)"
      ]
     },
     "execution_count": 51,
     "metadata": {},
     "output_type": "execute_result"
    }
   ],
   "source": [
    "df['priceflag'].unique()"
   ]
  },
  {
   "cell_type": "code",
   "execution_count": 52,
   "id": "44b4dcdd",
   "metadata": {},
   "outputs": [
    {
     "data": {
      "text/plain": [
       "actual              48106\n",
       "aggregate           14116\n",
       "forecast            11744\n",
       "actual,aggregate      454\n",
       "Name: priceflag, dtype: int64"
      ]
     },
     "execution_count": 52,
     "metadata": {},
     "output_type": "execute_result"
    }
   ],
   "source": [
    "df['priceflag'].value_counts()"
   ]
  },
  {
   "cell_type": "code",
   "execution_count": 37,
   "id": "61d57b06",
   "metadata": {},
   "outputs": [
    {
     "data": {
      "image/png": "[encoded data removed]",
      "text/plain": [
       "<Figure size 432x288 with 1 Axes>"
      ]
     },
     "metadata": {
      "needs_background": "light"
     },
     "output_type": "display_data"
    }
   ],
   "source": [
    "sns.countplot(x=\"priceflag\", data=df)\n",
    "plt.savefig(\"price_flag_bar.jpg\")"
   ]
  },
  {
   "cell_type": "code",
   "execution_count": 54,
   "id": "90d63096",
   "metadata": {},
   "outputs": [
    {
     "data": {
      "text/plain": [
       "<AxesSubplot:ylabel='priceflag'>"
      ]
     },
     "execution_count": 54,
     "metadata": {},
     "output_type": "execute_result"
    },
    {
     "data": {
      "image/png": "[encoded data removed]",
      "text/plain": [
       "<Figure size 432x288 with 1 Axes>"
      ]
     },
     "metadata": {},
     "output_type": "display_data"
    }
   ],
   "source": [
    "df['priceflag'].value_counts().plot(kind='pie',autopct='%1.1f%%')"
   ]
  },
  {
   "cell_type": "code",
   "execution_count": 55,
   "id": "32e22c5b",
   "metadata": {},
   "outputs": [
    {
     "data": {
      "text/plain": [
       "array(['Wholesale', 'Retail'], dtype=object)"
      ]
     },
     "execution_count": 55,
     "metadata": {},
     "output_type": "execute_result"
    }
   ],
   "source": [
    "df['pricetype'].unique()"
   ]
  },
  {
   "cell_type": "code",
   "execution_count": 56,
   "id": "b883af8b",
   "metadata": {},
   "outputs": [
    {
     "data": {
      "text/plain": [
       "Retail       50472\n",
       "Wholesale    23948\n",
       "Name: pricetype, dtype: int64"
      ]
     },
     "execution_count": 56,
     "metadata": {},
     "output_type": "execute_result"
    }
   ],
   "source": [
    "df['pricetype'].value_counts()"
   ]
  },
  {
   "cell_type": "code",
   "execution_count": 38,
   "id": "bbd9633c",
   "metadata": {},
   "outputs": [
    {
     "data": {
      "image/png": "[encoded data removed]",
      "text/plain": [
       "<Figure size 432x288 with 1 Axes>"
      ]
     },
     "metadata": {
      "needs_background": "light"
     },
     "output_type": "display_data"
    }
   ],
   "source": [
    "sns.countplot(x=\"pricetype\", data=df)\n",
    "plt.savefig(\"pricetype_bar.jpg\")"
   ]
  },
  {
   "cell_type": "code",
   "execution_count": 58,
   "id": "98e3bc07",
   "metadata": {},
   "outputs": [
    {
     "data": {
      "text/plain": [
       "<AxesSubplot:ylabel='pricetype'>"
      ]
     },
     "execution_count": 58,
     "metadata": {},
     "output_type": "execute_result"
    },
    {
     "data": {
      "image/png": "[encoded data removed]",
      "text/plain": [
       "<Figure size 432x288 with 1 Axes>"
      ]
     },
     "metadata": {},
     "output_type": "display_data"
    }
   ],
   "source": [
    "df['pricetype'].value_counts().plot(kind='pie',autopct='%1.1f%%')"
   ]
  },
  {
   "cell_type": "code",
   "execution_count": 63,
   "id": "4d1d4538",
   "metadata": {},
   "outputs": [
    {
     "data": {
      "text/plain": [
       "array(['150.18', '358.7', '155.61', ..., '467.66', '0.0', 0.0],\n",
       "      dtype=object)"
      ]
     },
     "execution_count": 63,
     "metadata": {},
     "output_type": "execute_result"
    }
   ],
   "source": [
    "df['price'].unique()"
   ]
  },
  {
   "cell_type": "code",
   "execution_count": 64,
   "id": "746381db",
   "metadata": {},
   "outputs": [
    {
     "data": {
      "text/plain": [
       "0.0        8886\n",
       "0.0        2858\n",
       "50.0       1961\n",
       "200.0      1461\n",
       "100.0      1337\n",
       "           ... \n",
       "25950.0       1\n",
       "351.03        1\n",
       "114.83        1\n",
       "181.73        1\n",
       "59250.0       1\n",
       "Name: price, Length: 19446, dtype: int64"
      ]
     },
     "execution_count": 64,
     "metadata": {},
     "output_type": "execute_result"
    }
   ],
   "source": [
    "df['price'].value_counts()"
   ]
  },
  {
   "cell_type": "code",
   "execution_count": 65,
   "id": "951953b8",
   "metadata": {},
   "outputs": [
    {
     "data": {
      "text/plain": [
       "0.0        8886\n",
       "0.0        2858\n",
       "0.1629      205\n",
       "0.1397      150\n",
       "0.1401      142\n",
       "           ... \n",
       "21.4372       1\n",
       "17.9393       1\n",
       "0.6537        1\n",
       "18.2715       1\n",
       "2.3227        1\n",
       "Name: usdprice, Length: 28635, dtype: int64"
      ]
     },
     "execution_count": 65,
     "metadata": {},
     "output_type": "execute_result"
    }
   ],
   "source": [
    "df['usdprice'].value_counts()"
   ]
  },
  {
   "cell_type": "code",
   "execution_count": 130,
   "id": "740df373",
   "metadata": {},
   "outputs": [
    {
     "data": {
      "text/plain": [
       "11.707240104675293    3323\n",
       "12.090120315551758    2579\n",
       "7.4019598960876465    2452\n",
       "11.831100463867188    2376\n",
       "12.595190048217773    2326\n",
       "                      ... \n",
       "10.813901901245115     172\n",
       "13.062664985656738     171\n",
       "11.285202026367188     170\n",
       "12.201859474182127     168\n",
       "11.85260253             78\n",
       "Name: latitude, Length: 72, dtype: int64"
      ]
     },
     "execution_count": 130,
     "metadata": {},
     "output_type": "execute_result"
    }
   ],
   "source": [
    "df['latitude'].value_counts()"
   ]
  },
  {
   "cell_type": "code",
   "execution_count": 84,
   "id": "5ce13734",
   "metadata": {},
   "outputs": [
    {
     "data": {
      "text/html": [
       "<div>\n",
       "<style scoped>\n",
       "    .dataframe tbody tr th:only-of-type {\n",
       "        vertical-align: middle;\n",
       "    }\n",
       "\n",
       "    .dataframe tbody tr th {\n",
       "        vertical-align: top;\n",
       "    }\n",
       "\n",
       "    .dataframe thead th {\n",
       "        text-align: right;\n",
       "    }\n",
       "</style>\n",
       "<table border=\"1\" class=\"dataframe\">\n",
       "  <thead>\n",
       "    <tr style=\"text-align: right;\">\n",
       "      <th></th>\n",
       "      <th>latitude</th>\n",
       "      <th>longitude</th>\n",
       "      <th>price</th>\n",
       "      <th>usdprice</th>\n",
       "      <th>day</th>\n",
       "      <th>year</th>\n",
       "    </tr>\n",
       "  </thead>\n",
       "  <tbody>\n",
       "    <tr>\n",
       "      <th>count</th>\n",
       "      <td>74421.000000</td>\n",
       "      <td>74421.000000</td>\n",
       "      <td>74421.000000</td>\n",
       "      <td>74421.000000</td>\n",
       "      <td>74421.0</td>\n",
       "      <td>74421.000000</td>\n",
       "    </tr>\n",
       "    <tr>\n",
       "      <th>mean</th>\n",
       "      <td>11.349676</td>\n",
       "      <td>10.155877</td>\n",
       "      <td>5073.734934</td>\n",
       "      <td>30.278250</td>\n",
       "      <td>15.0</td>\n",
       "      <td>2019.112804</td>\n",
       "    </tr>\n",
       "    <tr>\n",
       "      <th>std</th>\n",
       "      <td>1.733798</td>\n",
       "      <td>2.982014</td>\n",
       "      <td>10831.866336</td>\n",
       "      <td>332.223652</td>\n",
       "      <td>0.0</td>\n",
       "      <td>2.961207</td>\n",
       "    </tr>\n",
       "    <tr>\n",
       "      <th>min</th>\n",
       "      <td>5.147640</td>\n",
       "      <td>3.401897</td>\n",
       "      <td>0.000000</td>\n",
       "      <td>0.000000</td>\n",
       "      <td>15.0</td>\n",
       "      <td>2002.000000</td>\n",
       "    </tr>\n",
       "    <tr>\n",
       "      <th>25%</th>\n",
       "      <td>11.280160</td>\n",
       "      <td>8.230000</td>\n",
       "      <td>107.750000</td>\n",
       "      <td>0.330000</td>\n",
       "      <td>15.0</td>\n",
       "      <td>2018.000000</td>\n",
       "    </tr>\n",
       "    <tr>\n",
       "      <th>50%</th>\n",
       "      <td>11.831100</td>\n",
       "      <td>11.166670</td>\n",
       "      <td>325.000000</td>\n",
       "      <td>0.983900</td>\n",
       "      <td>15.0</td>\n",
       "      <td>2020.000000</td>\n",
       "    </tr>\n",
       "    <tr>\n",
       "      <th>75%</th>\n",
       "      <td>12.362300</td>\n",
       "      <td>13.092646</td>\n",
       "      <td>1400.000000</td>\n",
       "      <td>4.877100</td>\n",
       "      <td>15.0</td>\n",
       "      <td>2021.000000</td>\n",
       "    </tr>\n",
       "    <tr>\n",
       "      <th>max</th>\n",
       "      <td>13.645000</td>\n",
       "      <td>13.264360</td>\n",
       "      <td>138000.000000</td>\n",
       "      <td>28662.419400</td>\n",
       "      <td>15.0</td>\n",
       "      <td>2023.000000</td>\n",
       "    </tr>\n",
       "  </tbody>\n",
       "</table>\n",
       "</div>"
      ],
      "text/plain": [
       "           latitude     longitude          price      usdprice      day  \\\n",
       "count  74421.000000  74421.000000   74421.000000  74421.000000  74421.0   \n",
       "mean      11.349676     10.155877    5073.734934     30.278250     15.0   \n",
       "std        1.733798      2.982014   10831.866336    332.223652      0.0   \n",
       "min        5.147640      3.401897       0.000000      0.000000     15.0   \n",
       "25%       11.280160      8.230000     107.750000      0.330000     15.0   \n",
       "50%       11.831100     11.166670     325.000000      0.983900     15.0   \n",
       "75%       12.362300     13.092646    1400.000000      4.877100     15.0   \n",
       "max       13.645000     13.264360  138000.000000  28662.419400     15.0   \n",
       "\n",
       "               year  \n",
       "count  74421.000000  \n",
       "mean    2019.112804  \n",
       "std        2.961207  \n",
       "min     2002.000000  \n",
       "25%     2018.000000  \n",
       "50%     2020.000000  \n",
       "75%     2021.000000  \n",
       "max     2023.000000  "
      ]
     },
     "execution_count": 84,
     "metadata": {},
     "output_type": "execute_result"
    }
   ],
   "source": [
    "df.describe()"
   ]
  },
  {
   "cell_type": "markdown",
   "id": "1d96f2a7",
   "metadata": {},
   "source": [
    "Tableau dashboard : https://public.tableau.com/app/profile/olawuwo.abideen/viz/FoodPrice_16898611625970/FoodPrice?publish=yes"
   ]
  },
  {
   "cell_type": "code",
   "execution_count": null,
   "id": "f3024b75",
   "metadata": {},
   "outputs": [],
   "source": []
  }
 ],
 "metadata": {
  "kernelspec": {
   "display_name": "Python 3 (ipykernel)",
   "language": "python",
   "name": "python3"
  },
  "language_info": {
   "codemirror_mode": {
    "name": "ipython",
    "version": 3
   },
   "file_extension": ".py",
   "mimetype": "text/x-python",
   "name": "python",
   "nbconvert_exporter": "python",
   "pygments_lexer": "ipython3",
   "version": "3.9.7"
  }
 },
 "nbformat": 4,
 "nbformat_minor": 5
}

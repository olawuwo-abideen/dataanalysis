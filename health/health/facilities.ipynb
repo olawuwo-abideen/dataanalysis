{
 "cells": [
  {
   "cell_type": "markdown",
   "id": "fa57ae9d",
   "metadata": {},
   "source": [
    "# Analytic Report on Health Facilities in Nigeria"
   ]
  },
  {
   "cell_type": "code",
   "execution_count": 1,
   "id": "596ac082",
   "metadata": {},
   "outputs": [],
   "source": [
    "import numpy as np\n",
    "import pandas as pd\n",
    "import seaborn as sns\n",
    "import matplotlib as plt\n",
    "\n",
    "import warnings\n",
    "\n",
    "warnings.filterwarnings(\"ignore\")"
   ]
  },
  {
   "cell_type": "code",
   "execution_count": 53,
   "id": "10e1b186",
   "metadata": {},
   "outputs": [
    {
     "data": {
      "text/plain": [
       "(42064, 17)"
      ]
     },
     "execution_count": 53,
     "metadata": {},
     "output_type": "execute_result"
    }
   ],
   "source": [
    "df = pd.read_excel('data/nigeria-hospitals-and-clinics_hxl.xlsx')\n",
    "df.shape"
   ]
  },
  {
   "cell_type": "code",
   "execution_count": 54,
   "id": "1ab7ed91",
   "metadata": {},
   "outputs": [
    {
     "data": {
      "text/html": [
       "<div>\n",
       "<style scoped>\n",
       "    .dataframe tbody tr th:only-of-type {\n",
       "        vertical-align: middle;\n",
       "    }\n",
       "\n",
       "    .dataframe tbody tr th {\n",
       "        vertical-align: top;\n",
       "    }\n",
       "\n",
       "    .dataframe thead th {\n",
       "        text-align: right;\n",
       "    }\n",
       "</style>\n",
       "<table border=\"1\" class=\"dataframe\">\n",
       "  <thead>\n",
       "    <tr style=\"text-align: right;\">\n",
       "      <th></th>\n",
       "      <th>state</th>\n",
       "      <th>lga</th>\n",
       "      <th>ward</th>\n",
       "      <th>uid</th>\n",
       "      <th>facility_code</th>\n",
       "      <th>facility_name</th>\n",
       "      <th>reg_number</th>\n",
       "      <th>start_date</th>\n",
       "      <th>ownership</th>\n",
       "      <th>facility_level</th>\n",
       "      <th>longitude</th>\n",
       "      <th>latitude</th>\n",
       "      <th>operation_status</th>\n",
       "      <th>registration_status</th>\n",
       "      <th>license_status</th>\n",
       "      <th>created</th>\n",
       "      <th>last_updated</th>\n",
       "    </tr>\n",
       "  </thead>\n",
       "  <tbody>\n",
       "    <tr>\n",
       "      <th>0</th>\n",
       "      <td>#adm1+name\\t</td>\n",
       "      <td>#adm2+name\\t</td>\n",
       "      <td>#adm3+name\\t</td>\n",
       "      <td>NaN</td>\n",
       "      <td>NaN</td>\n",
       "      <td>NaN</td>\n",
       "      <td>NaN</td>\n",
       "      <td>NaN</td>\n",
       "      <td>NaN</td>\n",
       "      <td>NaN</td>\n",
       "      <td>\\t#geo+lon</td>\n",
       "      <td>#geo+lat</td>\n",
       "      <td>NaN</td>\n",
       "      <td>NaN</td>\n",
       "      <td>NaN</td>\n",
       "      <td>NaN</td>\n",
       "      <td>NaN</td>\n",
       "    </tr>\n",
       "    <tr>\n",
       "      <th>1</th>\n",
       "      <td>Abia</td>\n",
       "      <td>Aba North</td>\n",
       "      <td>Ariaria</td>\n",
       "      <td>48319756.0</td>\n",
       "      <td>01/01/1/1/2/0001</td>\n",
       "      <td>Aba Holy Wounds Hospital</td>\n",
       "      <td>NaN</td>\n",
       "      <td>2003-10-05</td>\n",
       "      <td>Private</td>\n",
       "      <td>Secondary</td>\n",
       "      <td>7.34134</td>\n",
       "      <td>5.11445</td>\n",
       "      <td>Operational</td>\n",
       "      <td>Registered</td>\n",
       "      <td>Licensed</td>\n",
       "      <td>2018-01-01 01:01:01</td>\n",
       "      <td>2019-05-16 09:46:23</td>\n",
       "    </tr>\n",
       "    <tr>\n",
       "      <th>2</th>\n",
       "      <td>Abia</td>\n",
       "      <td>Aba North</td>\n",
       "      <td>Umuola</td>\n",
       "      <td>47587317.0</td>\n",
       "      <td>01/01/1/1/2/0003</td>\n",
       "      <td>Alpha Inland Hospital</td>\n",
       "      <td>NaN</td>\n",
       "      <td>1985-04-02</td>\n",
       "      <td>Private</td>\n",
       "      <td>Secondary</td>\n",
       "      <td>7.385681</td>\n",
       "      <td>5.129272</td>\n",
       "      <td>Operational</td>\n",
       "      <td>Registered</td>\n",
       "      <td>Licensed</td>\n",
       "      <td>2018-01-01 01:01:01</td>\n",
       "      <td>2020-05-22 13:41:36</td>\n",
       "    </tr>\n",
       "    <tr>\n",
       "      <th>3</th>\n",
       "      <td>Abia</td>\n",
       "      <td>Aba North</td>\n",
       "      <td>Old GRA</td>\n",
       "      <td>38145837.0</td>\n",
       "      <td>01/01/1/1/2/0004</td>\n",
       "      <td>Angels of Mercy Hospital</td>\n",
       "      <td>NaN</td>\n",
       "      <td>2010-12-10</td>\n",
       "      <td>Private</td>\n",
       "      <td>Secondary</td>\n",
       "      <td>7.354919</td>\n",
       "      <td>5.124084</td>\n",
       "      <td>Operational</td>\n",
       "      <td>Registered</td>\n",
       "      <td>Licensed</td>\n",
       "      <td>2018-01-01 01:01:01</td>\n",
       "      <td>2019-05-26 14:52:35</td>\n",
       "    </tr>\n",
       "    <tr>\n",
       "      <th>4</th>\n",
       "      <td>Abia</td>\n",
       "      <td>Aba North</td>\n",
       "      <td>Asa-Okpulor</td>\n",
       "      <td>37712654.0</td>\n",
       "      <td>01/01/1/1/1/0006</td>\n",
       "      <td>Asa-Okpulor II Health Centre</td>\n",
       "      <td>NaN</td>\n",
       "      <td>2010-04-08</td>\n",
       "      <td>Public</td>\n",
       "      <td>Primary</td>\n",
       "      <td>NaN</td>\n",
       "      <td>NaN</td>\n",
       "      <td>Operational</td>\n",
       "      <td>Registered</td>\n",
       "      <td>Licensed</td>\n",
       "      <td>2018-01-01 01:01:01</td>\n",
       "      <td>2020-05-22 14:28:24</td>\n",
       "    </tr>\n",
       "  </tbody>\n",
       "</table>\n",
       "</div>"
      ],
      "text/plain": [
       "          state           lga          ward         uid     facility_code  \\\n",
       "0  #adm1+name\\t  #adm2+name\\t  #adm3+name\\t         NaN               NaN   \n",
       "1          Abia     Aba North       Ariaria  48319756.0  01/01/1/1/2/0001   \n",
       "2          Abia     Aba North        Umuola  47587317.0  01/01/1/1/2/0003   \n",
       "3          Abia     Aba North       Old GRA  38145837.0  01/01/1/1/2/0004   \n",
       "4          Abia     Aba North   Asa-Okpulor  37712654.0  01/01/1/1/1/0006   \n",
       "\n",
       "                  facility_name reg_number  start_date ownership  \\\n",
       "0                           NaN        NaN         NaN       NaN   \n",
       "1      Aba Holy Wounds Hospital        NaN  2003-10-05   Private   \n",
       "2         Alpha Inland Hospital        NaN  1985-04-02   Private   \n",
       "3      Angels of Mercy Hospital        NaN  2010-12-10   Private   \n",
       "4  Asa-Okpulor II Health Centre        NaN  2010-04-08    Public   \n",
       "\n",
       "  facility_level   longitude  latitude operation_status registration_status  \\\n",
       "0            NaN  \\t#geo+lon  #geo+lat              NaN                 NaN   \n",
       "1      Secondary     7.34134   5.11445      Operational          Registered   \n",
       "2      Secondary    7.385681  5.129272      Operational          Registered   \n",
       "3      Secondary    7.354919  5.124084      Operational          Registered   \n",
       "4        Primary         NaN       NaN      Operational          Registered   \n",
       "\n",
       "  license_status              created         last_updated  \n",
       "0            NaN                  NaN                  NaN  \n",
       "1       Licensed  2018-01-01 01:01:01  2019-05-16 09:46:23  \n",
       "2       Licensed  2018-01-01 01:01:01  2020-05-22 13:41:36  \n",
       "3       Licensed  2018-01-01 01:01:01  2019-05-26 14:52:35  \n",
       "4       Licensed  2018-01-01 01:01:01  2020-05-22 14:28:24  "
      ]
     },
     "execution_count": 54,
     "metadata": {},
     "output_type": "execute_result"
    }
   ],
   "source": [
    "df.head()"
   ]
  },
  {
   "cell_type": "code",
   "execution_count": 55,
   "id": "7b163a6f",
   "metadata": {},
   "outputs": [
    {
     "name": "stdout",
     "output_type": "stream",
     "text": [
      "<class 'pandas.core.frame.DataFrame'>\n",
      "RangeIndex: 42064 entries, 0 to 42063\n",
      "Data columns (total 17 columns):\n",
      " #   Column               Non-Null Count  Dtype  \n",
      "---  ------               --------------  -----  \n",
      " 0   state                42064 non-null  object \n",
      " 1   lga                  42064 non-null  object \n",
      " 2   ward                 42049 non-null  object \n",
      " 3   uid                  42063 non-null  float64\n",
      " 4   facility_code        42063 non-null  object \n",
      " 5   facility_name        42063 non-null  object \n",
      " 6   reg_number           1735 non-null   object \n",
      " 7   start_date           34838 non-null  object \n",
      " 8   ownership            42063 non-null  object \n",
      " 9   facility_level       42063 non-null  object \n",
      " 10  longitude            37027 non-null  object \n",
      " 11  latitude             37070 non-null  object \n",
      " 12  operation_status     42063 non-null  object \n",
      " 13  registration_status  41806 non-null  object \n",
      " 14  license_status       41805 non-null  object \n",
      " 15  created              42063 non-null  object \n",
      " 16  last_updated         42063 non-null  object \n",
      "dtypes: float64(1), object(16)\n",
      "memory usage: 5.5+ MB\n"
     ]
    }
   ],
   "source": [
    "df.info()"
   ]
  },
  {
   "cell_type": "markdown",
   "id": "3941d3d5",
   "metadata": {},
   "source": [
    "### Data Cleaning"
   ]
  },
  {
   "cell_type": "code",
   "execution_count": 56,
   "id": "5b05e2f5",
   "metadata": {},
   "outputs": [],
   "source": [
    "#Drop the first Row\n",
    "df = df.iloc[1:]"
   ]
  },
  {
   "cell_type": "code",
   "execution_count": 57,
   "id": "1e367815",
   "metadata": {},
   "outputs": [],
   "source": [
    "# Reset the index\n",
    "df = df.reset_index(drop=True)"
   ]
  },
  {
   "cell_type": "code",
   "execution_count": 58,
   "id": "f5141772",
   "metadata": {},
   "outputs": [
    {
     "data": {
      "text/html": [
       "<div>\n",
       "<style scoped>\n",
       "    .dataframe tbody tr th:only-of-type {\n",
       "        vertical-align: middle;\n",
       "    }\n",
       "\n",
       "    .dataframe tbody tr th {\n",
       "        vertical-align: top;\n",
       "    }\n",
       "\n",
       "    .dataframe thead th {\n",
       "        text-align: right;\n",
       "    }\n",
       "</style>\n",
       "<table border=\"1\" class=\"dataframe\">\n",
       "  <thead>\n",
       "    <tr style=\"text-align: right;\">\n",
       "      <th></th>\n",
       "      <th>state</th>\n",
       "      <th>lga</th>\n",
       "      <th>ward</th>\n",
       "      <th>uid</th>\n",
       "      <th>facility_code</th>\n",
       "      <th>facility_name</th>\n",
       "      <th>reg_number</th>\n",
       "      <th>start_date</th>\n",
       "      <th>ownership</th>\n",
       "      <th>facility_level</th>\n",
       "      <th>longitude</th>\n",
       "      <th>latitude</th>\n",
       "      <th>operation_status</th>\n",
       "      <th>registration_status</th>\n",
       "      <th>license_status</th>\n",
       "      <th>created</th>\n",
       "      <th>last_updated</th>\n",
       "    </tr>\n",
       "  </thead>\n",
       "  <tbody>\n",
       "    <tr>\n",
       "      <th>0</th>\n",
       "      <td>Abia</td>\n",
       "      <td>Aba North</td>\n",
       "      <td>Ariaria</td>\n",
       "      <td>48319756.0</td>\n",
       "      <td>01/01/1/1/2/0001</td>\n",
       "      <td>Aba Holy Wounds Hospital</td>\n",
       "      <td>NaN</td>\n",
       "      <td>2003-10-05</td>\n",
       "      <td>Private</td>\n",
       "      <td>Secondary</td>\n",
       "      <td>7.34134</td>\n",
       "      <td>5.11445</td>\n",
       "      <td>Operational</td>\n",
       "      <td>Registered</td>\n",
       "      <td>Licensed</td>\n",
       "      <td>2018-01-01 01:01:01</td>\n",
       "      <td>2019-05-16 09:46:23</td>\n",
       "    </tr>\n",
       "    <tr>\n",
       "      <th>1</th>\n",
       "      <td>Abia</td>\n",
       "      <td>Aba North</td>\n",
       "      <td>Umuola</td>\n",
       "      <td>47587317.0</td>\n",
       "      <td>01/01/1/1/2/0003</td>\n",
       "      <td>Alpha Inland Hospital</td>\n",
       "      <td>NaN</td>\n",
       "      <td>1985-04-02</td>\n",
       "      <td>Private</td>\n",
       "      <td>Secondary</td>\n",
       "      <td>7.385681</td>\n",
       "      <td>5.129272</td>\n",
       "      <td>Operational</td>\n",
       "      <td>Registered</td>\n",
       "      <td>Licensed</td>\n",
       "      <td>2018-01-01 01:01:01</td>\n",
       "      <td>2020-05-22 13:41:36</td>\n",
       "    </tr>\n",
       "    <tr>\n",
       "      <th>2</th>\n",
       "      <td>Abia</td>\n",
       "      <td>Aba North</td>\n",
       "      <td>Old GRA</td>\n",
       "      <td>38145837.0</td>\n",
       "      <td>01/01/1/1/2/0004</td>\n",
       "      <td>Angels of Mercy Hospital</td>\n",
       "      <td>NaN</td>\n",
       "      <td>2010-12-10</td>\n",
       "      <td>Private</td>\n",
       "      <td>Secondary</td>\n",
       "      <td>7.354919</td>\n",
       "      <td>5.124084</td>\n",
       "      <td>Operational</td>\n",
       "      <td>Registered</td>\n",
       "      <td>Licensed</td>\n",
       "      <td>2018-01-01 01:01:01</td>\n",
       "      <td>2019-05-26 14:52:35</td>\n",
       "    </tr>\n",
       "    <tr>\n",
       "      <th>3</th>\n",
       "      <td>Abia</td>\n",
       "      <td>Aba North</td>\n",
       "      <td>Asa-Okpulor</td>\n",
       "      <td>37712654.0</td>\n",
       "      <td>01/01/1/1/1/0006</td>\n",
       "      <td>Asa-Okpulor II Health Centre</td>\n",
       "      <td>NaN</td>\n",
       "      <td>2010-04-08</td>\n",
       "      <td>Public</td>\n",
       "      <td>Primary</td>\n",
       "      <td>NaN</td>\n",
       "      <td>NaN</td>\n",
       "      <td>Operational</td>\n",
       "      <td>Registered</td>\n",
       "      <td>Licensed</td>\n",
       "      <td>2018-01-01 01:01:01</td>\n",
       "      <td>2020-05-22 14:28:24</td>\n",
       "    </tr>\n",
       "    <tr>\n",
       "      <th>4</th>\n",
       "      <td>Abia</td>\n",
       "      <td>Aba North</td>\n",
       "      <td>Asaokpuaja</td>\n",
       "      <td>14064567.0</td>\n",
       "      <td>01/01/1/1/1/0004</td>\n",
       "      <td>Asaokpuaja Health Post</td>\n",
       "      <td>NaN</td>\n",
       "      <td>2012-12-05</td>\n",
       "      <td>Public</td>\n",
       "      <td>Primary</td>\n",
       "      <td>7.3741</td>\n",
       "      <td>5.0768</td>\n",
       "      <td>Operational</td>\n",
       "      <td>Registered</td>\n",
       "      <td>Licensed</td>\n",
       "      <td>2018-01-01 01:01:01</td>\n",
       "      <td>2019-05-09 17:09:09</td>\n",
       "    </tr>\n",
       "  </tbody>\n",
       "</table>\n",
       "</div>"
      ],
      "text/plain": [
       "  state        lga         ward         uid     facility_code  \\\n",
       "0  Abia  Aba North      Ariaria  48319756.0  01/01/1/1/2/0001   \n",
       "1  Abia  Aba North       Umuola  47587317.0  01/01/1/1/2/0003   \n",
       "2  Abia  Aba North      Old GRA  38145837.0  01/01/1/1/2/0004   \n",
       "3  Abia  Aba North  Asa-Okpulor  37712654.0  01/01/1/1/1/0006   \n",
       "4  Abia  Aba North   Asaokpuaja  14064567.0  01/01/1/1/1/0004   \n",
       "\n",
       "                  facility_name reg_number  start_date ownership  \\\n",
       "0      Aba Holy Wounds Hospital        NaN  2003-10-05   Private   \n",
       "1         Alpha Inland Hospital        NaN  1985-04-02   Private   \n",
       "2      Angels of Mercy Hospital        NaN  2010-12-10   Private   \n",
       "3  Asa-Okpulor II Health Centre        NaN  2010-04-08    Public   \n",
       "4        Asaokpuaja Health Post        NaN  2012-12-05    Public   \n",
       "\n",
       "  facility_level longitude  latitude operation_status registration_status  \\\n",
       "0      Secondary   7.34134   5.11445      Operational          Registered   \n",
       "1      Secondary  7.385681  5.129272      Operational          Registered   \n",
       "2      Secondary  7.354919  5.124084      Operational          Registered   \n",
       "3        Primary       NaN       NaN      Operational          Registered   \n",
       "4        Primary    7.3741    5.0768      Operational          Registered   \n",
       "\n",
       "  license_status              created         last_updated  \n",
       "0       Licensed  2018-01-01 01:01:01  2019-05-16 09:46:23  \n",
       "1       Licensed  2018-01-01 01:01:01  2020-05-22 13:41:36  \n",
       "2       Licensed  2018-01-01 01:01:01  2019-05-26 14:52:35  \n",
       "3       Licensed  2018-01-01 01:01:01  2020-05-22 14:28:24  \n",
       "4       Licensed  2018-01-01 01:01:01  2019-05-09 17:09:09  "
      ]
     },
     "execution_count": 58,
     "metadata": {},
     "output_type": "execute_result"
    }
   ],
   "source": [
    "df.head()"
   ]
  },
  {
   "cell_type": "code",
   "execution_count": 59,
   "id": "fb1cb9ae",
   "metadata": {},
   "outputs": [],
   "source": [
    "df.drop(['uid','reg_number', 'last_updated', 'created', 'start_date', 'facility_code'],axis = 1,inplace = True)"
   ]
  },
  {
   "cell_type": "code",
   "execution_count": 60,
   "id": "f7164486",
   "metadata": {},
   "outputs": [],
   "source": [
    "df['country'] = 'nigeria'"
   ]
  },
  {
   "cell_type": "code",
   "execution_count": 61,
   "id": "c7b46d5b",
   "metadata": {},
   "outputs": [
    {
     "data": {
      "text/html": [
       "<div>\n",
       "<style scoped>\n",
       "    .dataframe tbody tr th:only-of-type {\n",
       "        vertical-align: middle;\n",
       "    }\n",
       "\n",
       "    .dataframe tbody tr th {\n",
       "        vertical-align: top;\n",
       "    }\n",
       "\n",
       "    .dataframe thead th {\n",
       "        text-align: right;\n",
       "    }\n",
       "</style>\n",
       "<table border=\"1\" class=\"dataframe\">\n",
       "  <thead>\n",
       "    <tr style=\"text-align: right;\">\n",
       "      <th></th>\n",
       "      <th>state</th>\n",
       "      <th>lga</th>\n",
       "      <th>ward</th>\n",
       "      <th>facility_name</th>\n",
       "      <th>ownership</th>\n",
       "      <th>facility_level</th>\n",
       "      <th>longitude</th>\n",
       "      <th>latitude</th>\n",
       "      <th>operation_status</th>\n",
       "      <th>registration_status</th>\n",
       "      <th>license_status</th>\n",
       "      <th>country</th>\n",
       "    </tr>\n",
       "  </thead>\n",
       "  <tbody>\n",
       "    <tr>\n",
       "      <th>0</th>\n",
       "      <td>Abia</td>\n",
       "      <td>Aba North</td>\n",
       "      <td>Ariaria</td>\n",
       "      <td>Aba Holy Wounds Hospital</td>\n",
       "      <td>Private</td>\n",
       "      <td>Secondary</td>\n",
       "      <td>7.34134</td>\n",
       "      <td>5.11445</td>\n",
       "      <td>Operational</td>\n",
       "      <td>Registered</td>\n",
       "      <td>Licensed</td>\n",
       "      <td>nigeria</td>\n",
       "    </tr>\n",
       "    <tr>\n",
       "      <th>1</th>\n",
       "      <td>Abia</td>\n",
       "      <td>Aba North</td>\n",
       "      <td>Umuola</td>\n",
       "      <td>Alpha Inland Hospital</td>\n",
       "      <td>Private</td>\n",
       "      <td>Secondary</td>\n",
       "      <td>7.385681</td>\n",
       "      <td>5.129272</td>\n",
       "      <td>Operational</td>\n",
       "      <td>Registered</td>\n",
       "      <td>Licensed</td>\n",
       "      <td>nigeria</td>\n",
       "    </tr>\n",
       "    <tr>\n",
       "      <th>2</th>\n",
       "      <td>Abia</td>\n",
       "      <td>Aba North</td>\n",
       "      <td>Old GRA</td>\n",
       "      <td>Angels of Mercy Hospital</td>\n",
       "      <td>Private</td>\n",
       "      <td>Secondary</td>\n",
       "      <td>7.354919</td>\n",
       "      <td>5.124084</td>\n",
       "      <td>Operational</td>\n",
       "      <td>Registered</td>\n",
       "      <td>Licensed</td>\n",
       "      <td>nigeria</td>\n",
       "    </tr>\n",
       "    <tr>\n",
       "      <th>3</th>\n",
       "      <td>Abia</td>\n",
       "      <td>Aba North</td>\n",
       "      <td>Asa-Okpulor</td>\n",
       "      <td>Asa-Okpulor II Health Centre</td>\n",
       "      <td>Public</td>\n",
       "      <td>Primary</td>\n",
       "      <td>NaN</td>\n",
       "      <td>NaN</td>\n",
       "      <td>Operational</td>\n",
       "      <td>Registered</td>\n",
       "      <td>Licensed</td>\n",
       "      <td>nigeria</td>\n",
       "    </tr>\n",
       "    <tr>\n",
       "      <th>4</th>\n",
       "      <td>Abia</td>\n",
       "      <td>Aba North</td>\n",
       "      <td>Asaokpuaja</td>\n",
       "      <td>Asaokpuaja Health Post</td>\n",
       "      <td>Public</td>\n",
       "      <td>Primary</td>\n",
       "      <td>7.3741</td>\n",
       "      <td>5.0768</td>\n",
       "      <td>Operational</td>\n",
       "      <td>Registered</td>\n",
       "      <td>Licensed</td>\n",
       "      <td>nigeria</td>\n",
       "    </tr>\n",
       "  </tbody>\n",
       "</table>\n",
       "</div>"
      ],
      "text/plain": [
       "  state        lga         ward                 facility_name ownership  \\\n",
       "0  Abia  Aba North      Ariaria      Aba Holy Wounds Hospital   Private   \n",
       "1  Abia  Aba North       Umuola         Alpha Inland Hospital   Private   \n",
       "2  Abia  Aba North      Old GRA      Angels of Mercy Hospital   Private   \n",
       "3  Abia  Aba North  Asa-Okpulor  Asa-Okpulor II Health Centre    Public   \n",
       "4  Abia  Aba North   Asaokpuaja        Asaokpuaja Health Post    Public   \n",
       "\n",
       "  facility_level longitude  latitude operation_status registration_status  \\\n",
       "0      Secondary   7.34134   5.11445      Operational          Registered   \n",
       "1      Secondary  7.385681  5.129272      Operational          Registered   \n",
       "2      Secondary  7.354919  5.124084      Operational          Registered   \n",
       "3        Primary       NaN       NaN      Operational          Registered   \n",
       "4        Primary    7.3741    5.0768      Operational          Registered   \n",
       "\n",
       "  license_status  country  \n",
       "0       Licensed  nigeria  \n",
       "1       Licensed  nigeria  \n",
       "2       Licensed  nigeria  \n",
       "3       Licensed  nigeria  \n",
       "4       Licensed  nigeria  "
      ]
     },
     "execution_count": 61,
     "metadata": {},
     "output_type": "execute_result"
    }
   ],
   "source": [
    "df.head()"
   ]
  },
  {
   "cell_type": "code",
   "execution_count": 62,
   "id": "626a96ba",
   "metadata": {},
   "outputs": [
    {
     "data": {
      "text/plain": [
       "64"
      ]
     },
     "execution_count": 62,
     "metadata": {},
     "output_type": "execute_result"
    }
   ],
   "source": [
    "#Check For Duplicates\n",
    "duplicates = df.duplicated()\n",
    "duplicates.sum()"
   ]
  },
  {
   "cell_type": "code",
   "execution_count": 63,
   "id": "15fa2eda",
   "metadata": {},
   "outputs": [],
   "source": [
    "df = df.drop_duplicates()"
   ]
  },
  {
   "cell_type": "code",
   "execution_count": 64,
   "id": "d66da17a",
   "metadata": {},
   "outputs": [
    {
     "data": {
      "text/plain": [
       "0"
      ]
     },
     "execution_count": 64,
     "metadata": {},
     "output_type": "execute_result"
    }
   ],
   "source": [
    "#There is no duplicate in our dataset\n",
    "duplicates = df.duplicated()\n",
    "duplicates.sum()"
   ]
  },
  {
   "cell_type": "code",
   "execution_count": 65,
   "id": "f99a7d52",
   "metadata": {},
   "outputs": [
    {
     "data": {
      "text/plain": [
       "state                     0\n",
       "lga                       0\n",
       "ward                     15\n",
       "facility_name             0\n",
       "ownership                 0\n",
       "facility_level            0\n",
       "longitude              5034\n",
       "latitude               4991\n",
       "operation_status          0\n",
       "registration_status     255\n",
       "license_status          256\n",
       "country                   0\n",
       "dtype: int64"
      ]
     },
     "execution_count": 65,
     "metadata": {},
     "output_type": "execute_result"
    }
   ],
   "source": [
    "df.isna().sum()"
   ]
  },
  {
   "cell_type": "code",
   "execution_count": 66,
   "id": "58d30126",
   "metadata": {},
   "outputs": [],
   "source": [
    "df = df.fillna(df.mode().iloc[0])"
   ]
  },
  {
   "cell_type": "code",
   "execution_count": 67,
   "id": "362e3d79",
   "metadata": {},
   "outputs": [
    {
     "data": {
      "text/plain": [
       "state                  0\n",
       "lga                    0\n",
       "ward                   0\n",
       "facility_name          0\n",
       "ownership              0\n",
       "facility_level         0\n",
       "longitude              0\n",
       "latitude               0\n",
       "operation_status       0\n",
       "registration_status    0\n",
       "license_status         0\n",
       "country                0\n",
       "dtype: int64"
      ]
     },
     "execution_count": 67,
     "metadata": {},
     "output_type": "execute_result"
    }
   ],
   "source": [
    "df.isna().sum()"
   ]
  },
  {
   "cell_type": "markdown",
   "id": "bf688ed7",
   "metadata": {},
   "source": [
    "#### Export the Clean Data"
   ]
  },
  {
   "cell_type": "code",
   "execution_count": 68,
   "id": "5cad979c",
   "metadata": {},
   "outputs": [],
   "source": [
    "# Export current clean dataframe\n",
    "df.to_csv(\"data/df_clean.csv\" , index=False)"
   ]
  },
  {
   "cell_type": "markdown",
   "id": "96616274",
   "metadata": {},
   "source": [
    "#### import the Clean Data"
   ]
  },
  {
   "cell_type": "code",
   "execution_count": 2,
   "id": "8d4f9423",
   "metadata": {},
   "outputs": [],
   "source": [
    "df = pd.read_csv(\"data/df_clean.csv\")"
   ]
  },
  {
   "cell_type": "markdown",
   "id": "d27fa2fb",
   "metadata": {},
   "source": [
    "### Exploratory Data Analysis"
   ]
  },
  {
   "cell_type": "code",
   "execution_count": 3,
   "id": "3752d137",
   "metadata": {},
   "outputs": [
    {
     "data": {
      "text/plain": [
       "array(['Private', 'Public'], dtype=object)"
      ]
     },
     "execution_count": 3,
     "metadata": {},
     "output_type": "execute_result"
    }
   ],
   "source": [
    "df['ownership'].unique()"
   ]
  },
  {
   "cell_type": "code",
   "execution_count": 87,
   "id": "11eed774",
   "metadata": {},
   "outputs": [
    {
     "data": {
      "text/plain": [
       "Public     30734\n",
       "Private    11265\n",
       "Name: ownership, dtype: int64"
      ]
     },
     "execution_count": 87,
     "metadata": {},
     "output_type": "execute_result"
    }
   ],
   "source": [
    "df['ownership'].value_counts()"
   ]
  },
  {
   "cell_type": "code",
   "execution_count": 88,
   "id": "679b3c79",
   "metadata": {},
   "outputs": [
    {
     "data": {
      "text/plain": [
       "<AxesSubplot:xlabel='ownership', ylabel='count'>"
      ]
     },
     "execution_count": 88,
     "metadata": {},
     "output_type": "execute_result"
    },
    {
     "data": {
      "image/png": "[encoded data removed]",
      "text/plain": [
       "<Figure size 432x288 with 1 Axes>"
      ]
     },
     "metadata": {
      "needs_background": "light"
     },
     "output_type": "display_data"
    }
   ],
   "source": [
    "sns.countplot(x=\"ownership\", data=df)"
   ]
  },
  {
   "cell_type": "code",
   "execution_count": 89,
   "id": "08334db6",
   "metadata": {},
   "outputs": [
    {
     "data": {
      "text/plain": [
       "<AxesSubplot:ylabel='ownership'>"
      ]
     },
     "execution_count": 89,
     "metadata": {},
     "output_type": "execute_result"
    },
    {
     "data": {
      "image/png": "[encoded data removed]",
      "text/plain": [
       "<Figure size 432x288 with 1 Axes>"
      ]
     },
     "metadata": {},
     "output_type": "display_data"
    }
   ],
   "source": [
    "df['ownership'].value_counts().plot(kind='pie',autopct='%1.1f%%')"
   ]
  },
  {
   "cell_type": "code",
   "execution_count": 90,
   "id": "33cc5e55",
   "metadata": {},
   "outputs": [
    {
     "data": {
      "text/plain": [
       "array(['Secondary', 'Primary', 'Tertiary'], dtype=object)"
      ]
     },
     "execution_count": 90,
     "metadata": {},
     "output_type": "execute_result"
    }
   ],
   "source": [
    "df['facility_level'].unique()"
   ]
  },
  {
   "cell_type": "code",
   "execution_count": 91,
   "id": "fea65bae",
   "metadata": {},
   "outputs": [
    {
     "data": {
      "text/plain": [
       "Primary      35858\n",
       "Secondary     5983\n",
       "Tertiary       158\n",
       "Name: facility_level, dtype: int64"
      ]
     },
     "execution_count": 91,
     "metadata": {},
     "output_type": "execute_result"
    }
   ],
   "source": [
    "df['facility_level'].value_counts()"
   ]
  },
  {
   "cell_type": "code",
   "execution_count": 92,
   "id": "6325b1b1",
   "metadata": {},
   "outputs": [
    {
     "data": {
      "text/plain": [
       "<AxesSubplot:xlabel='facility_level', ylabel='count'>"
      ]
     },
     "execution_count": 92,
     "metadata": {},
     "output_type": "execute_result"
    },
    {
     "data": {
      "image/png": "[encoded data removed]",
      "text/plain": [
       "<Figure size 432x288 with 1 Axes>"
      ]
     },
     "metadata": {
      "needs_background": "light"
     },
     "output_type": "display_data"
    }
   ],
   "source": [
    "sns.countplot(x=\"facility_level\", data=df)"
   ]
  },
  {
   "cell_type": "code",
   "execution_count": 93,
   "id": "03769210",
   "metadata": {},
   "outputs": [
    {
     "data": {
      "text/plain": [
       "<AxesSubplot:ylabel='facility_level'>"
      ]
     },
     "execution_count": 93,
     "metadata": {},
     "output_type": "execute_result"
    },
    {
     "data": {
      "image/png": "[encoded data removed]",
      "text/plain": [
       "<Figure size 432x288 with 1 Axes>"
      ]
     },
     "metadata": {},
     "output_type": "display_data"
    }
   ],
   "source": [
    "df['facility_level'].value_counts().plot(kind='pie',autopct='%1.1f%%')"
   ]
  },
  {
   "cell_type": "code",
   "execution_count": 94,
   "id": "9d4a9942",
   "metadata": {},
   "outputs": [
    {
     "data": {
      "text/plain": [
       "array(['Operational', 'Pending Operation (Under Construction)',\n",
       "       'Closed (Temporary)', 'Pending Operation (Construction Complete)',\n",
       "       'Pending Operation', 'Closed'], dtype=object)"
      ]
     },
     "execution_count": 94,
     "metadata": {},
     "output_type": "execute_result"
    }
   ],
   "source": [
    "df['operation_status'].unique()"
   ]
  },
  {
   "cell_type": "code",
   "execution_count": 95,
   "id": "fecf4508",
   "metadata": {},
   "outputs": [
    {
     "data": {
      "text/plain": [
       "Operational                                  39966\n",
       "Closed (Temporary)                            1154\n",
       "Pending Operation                              296\n",
       "Closed                                         287\n",
       "Pending Operation (Construction Complete)      233\n",
       "Pending Operation (Under Construction)          63\n",
       "Name: operation_status, dtype: int64"
      ]
     },
     "execution_count": 95,
     "metadata": {},
     "output_type": "execute_result"
    }
   ],
   "source": [
    "df['operation_status'].value_counts()"
   ]
  },
  {
   "cell_type": "code",
   "execution_count": 96,
   "id": "713de2ce",
   "metadata": {},
   "outputs": [
    {
     "data": {
      "text/plain": [
       "<AxesSubplot:xlabel='operation_status', ylabel='count'>"
      ]
     },
     "execution_count": 96,
     "metadata": {},
     "output_type": "execute_result"
    },
    {
     "data": {
      "image/png": "[encoded data removed]",
      "text/plain": [
       "<Figure size 432x288 with 1 Axes>"
      ]
     },
     "metadata": {
      "needs_background": "light"
     },
     "output_type": "display_data"
    }
   ],
   "source": [
    "sns.countplot(x=\"operation_status\", data=df)"
   ]
  },
  {
   "cell_type": "code",
   "execution_count": 97,
   "id": "574ecf97",
   "metadata": {},
   "outputs": [
    {
     "data": {
      "text/plain": [
       "<AxesSubplot:ylabel='operation_status'>"
      ]
     },
     "execution_count": 97,
     "metadata": {},
     "output_type": "execute_result"
    },
    {
     "data": {
      "image/png": "[encoded data removed]",
      "text/plain": [
       "<Figure size 432x288 with 1 Axes>"
      ]
     },
     "metadata": {},
     "output_type": "display_data"
    }
   ],
   "source": [
    "df['operation_status'].value_counts().plot(kind='pie',autopct='%1.1f%%')"
   ]
  },
  {
   "cell_type": "code",
   "execution_count": 98,
   "id": "7cd60630",
   "metadata": {},
   "outputs": [
    {
     "data": {
      "text/plain": [
       "array(['Registered', 'Unknown', 'Not Applicable',\n",
       "       'Registration Suspended', 'Pending Registration',\n",
       "       'Provisionally Registered', 'Registration Cancelled'], dtype=object)"
      ]
     },
     "execution_count": 98,
     "metadata": {},
     "output_type": "execute_result"
    }
   ],
   "source": [
    "df['registration_status'].unique() "
   ]
  },
  {
   "cell_type": "code",
   "execution_count": 99,
   "id": "3d58cdb5",
   "metadata": {},
   "outputs": [
    {
     "data": {
      "text/plain": [
       "Registered                  24539\n",
       "Unknown                     13224\n",
       "Not Applicable               3388\n",
       "Pending Registration          515\n",
       "Provisionally Registered      255\n",
       "Registration Suspended         67\n",
       "Registration Cancelled         11\n",
       "Name: registration_status, dtype: int64"
      ]
     },
     "execution_count": 99,
     "metadata": {},
     "output_type": "execute_result"
    }
   ],
   "source": [
    "df['registration_status'].value_counts()"
   ]
  },
  {
   "cell_type": "code",
   "execution_count": 100,
   "id": "8624eacf",
   "metadata": {},
   "outputs": [
    {
     "data": {
      "text/plain": [
       "<AxesSubplot:xlabel='registration_status', ylabel='count'>"
      ]
     },
     "execution_count": 100,
     "metadata": {},
     "output_type": "execute_result"
    },
    {
     "data": {
      "image/png": "[encoded data removed]",
      "text/plain": [
       "<Figure size 432x288 with 1 Axes>"
      ]
     },
     "metadata": {
      "needs_background": "light"
     },
     "output_type": "display_data"
    }
   ],
   "source": [
    "sns.countplot(x=\"registration_status\", data=df)"
   ]
  },
  {
   "cell_type": "code",
   "execution_count": 101,
   "id": "68c527bf",
   "metadata": {},
   "outputs": [
    {
     "data": {
      "text/plain": [
       "<AxesSubplot:ylabel='registration_status'>"
      ]
     },
     "execution_count": 101,
     "metadata": {},
     "output_type": "execute_result"
    },
    {
     "data": {
      "image/png": "[encoded data removed]",
      "text/plain": [
       "<Figure size 432x288 with 1 Axes>"
      ]
     },
     "metadata": {},
     "output_type": "display_data"
    }
   ],
   "source": [
    "df['registration_status'].value_counts().plot(kind='pie',autopct='%1.1f%%')"
   ]
  },
  {
   "cell_type": "code",
   "execution_count": 102,
   "id": "8e6668ba",
   "metadata": {},
   "outputs": [
    {
     "data": {
      "text/plain": [
       "array(['Licensed', 'Unknown', 'Not Applicable', 'Not Licensed',\n",
       "       'License Cancelled'], dtype=object)"
      ]
     },
     "execution_count": 102,
     "metadata": {},
     "output_type": "execute_result"
    }
   ],
   "source": [
    "df['license_status'].unique() "
   ]
  },
  {
   "cell_type": "code",
   "execution_count": 103,
   "id": "5158e207",
   "metadata": {},
   "outputs": [
    {
     "data": {
      "text/plain": [
       "Licensed             23550\n",
       "Unknown              14118\n",
       "Not Applicable        3829\n",
       "Not Licensed           488\n",
       "License Cancelled       14\n",
       "Name: license_status, dtype: int64"
      ]
     },
     "execution_count": 103,
     "metadata": {},
     "output_type": "execute_result"
    }
   ],
   "source": [
    "df['license_status'].value_counts()"
   ]
  },
  {
   "cell_type": "code",
   "execution_count": 104,
   "id": "6d8f03be",
   "metadata": {},
   "outputs": [
    {
     "data": {
      "text/plain": [
       "<AxesSubplot:xlabel='license_status', ylabel='count'>"
      ]
     },
     "execution_count": 104,
     "metadata": {},
     "output_type": "execute_result"
    },
    {
     "data": {
      "image/png": "[encoded data removed]",
      "text/plain": [
       "<Figure size 432x288 with 1 Axes>"
      ]
     },
     "metadata": {
      "needs_background": "light"
     },
     "output_type": "display_data"
    }
   ],
   "source": [
    "sns.countplot(x=\"license_status\", data=df)"
   ]
  },
  {
   "cell_type": "code",
   "execution_count": 105,
   "id": "1cb5d0ca",
   "metadata": {},
   "outputs": [
    {
     "data": {
      "text/plain": [
       "<AxesSubplot:ylabel='license_status'>"
      ]
     },
     "execution_count": 105,
     "metadata": {},
     "output_type": "execute_result"
    },
    {
     "data": {
      "image/png": "[encoded data removed]",
      "text/plain": [
       "<Figure size 432x288 with 1 Axes>"
      ]
     },
     "metadata": {},
     "output_type": "display_data"
    }
   ],
   "source": [
    "df['license_status'].value_counts().plot(kind='pie',autopct='%1.1f%%')"
   ]
  },
  {
   "cell_type": "code",
   "execution_count": null,
   "id": "d918a1d4",
   "metadata": {},
   "outputs": [],
   "source": []
  },
  {
   "cell_type": "code",
   "execution_count": null,
   "id": "0b63be54",
   "metadata": {},
   "outputs": [],
   "source": []
  },
  {
   "cell_type": "code",
   "execution_count": 70,
   "id": "bb166935",
   "metadata": {},
   "outputs": [
    {
     "data": {
      "text/plain": [
       "array(['Abia', 'Adamawa', 'Akwa-Ibom', 'Anambra', 'Bauchi', 'Bayelsa',\n",
       "       'Benue', 'Borno', 'Cross River', 'Delta', 'Ebonyi', 'Edo', 'Ekiti',\n",
       "       'Enugu', 'FCT', 'Gombe', 'Imo', 'Jigawa', 'Kaduna', 'Kano',\n",
       "       'Katsina', 'Kebbi', 'Kogi', 'Kwara', 'Lagos', 'Nasarawa', 'Niger',\n",
       "       'Ogun', 'Ondo', 'Osun', 'Oyo', 'Plateau', 'Rivers', 'Sokoto',\n",
       "       'Taraba', 'Yobe', 'Zamfara'], dtype=object)"
      ]
     },
     "execution_count": 70,
     "metadata": {},
     "output_type": "execute_result"
    }
   ],
   "source": [
    "df['state'].unique()"
   ]
  },
  {
   "cell_type": "code",
   "execution_count": 71,
   "id": "329d9bd9",
   "metadata": {},
   "outputs": [
    {
     "data": {
      "text/plain": [
       "Lagos          2369\n",
       "Katsina        1994\n",
       "Benue          1878\n",
       "Niger          1612\n",
       "Oyo            1568\n",
       "Kaduna         1563\n",
       "Kano           1562\n",
       "Plateau        1490\n",
       "Nasarawa       1389\n",
       "Cross River    1294\n",
       "Kogi           1273\n",
       "Bauchi         1262\n",
       "Ogun           1234\n",
       "Abia           1229\n",
       "Anambra        1227\n",
       "Imo            1203\n",
       "Adamawa        1151\n",
       "Osun           1124\n",
       "Edo            1115\n",
       "Enugu          1082\n",
       "Taraba         1044\n",
       "Kwara          1033\n",
       "Kebbi           999\n",
       "Borno           888\n",
       "Delta           863\n",
       "Sokoto          848\n",
       "Ebonyi          842\n",
       "Ondo            834\n",
       "Akwa-Ibom       828\n",
       "Jigawa          799\n",
       "Zamfara         781\n",
       "FCT             770\n",
       "Gombe           682\n",
       "Yobe            673\n",
       "Rivers          590\n",
       "Ekiti           586\n",
       "Bayelsa         320\n",
       "Name: state, dtype: int64"
      ]
     },
     "execution_count": 71,
     "metadata": {},
     "output_type": "execute_result"
    }
   ],
   "source": [
    "df['state'].value_counts()"
   ]
  },
  {
   "cell_type": "code",
   "execution_count": 83,
   "id": "6075b0aa",
   "metadata": {},
   "outputs": [
    {
     "data": {
      "image/png": "[encoded data removed]",
      "text/plain": [
       "<Figure size 432x288 with 1 Axes>"
      ]
     },
     "metadata": {
      "needs_background": "light"
     },
     "output_type": "display_data"
    },
    {
     "data": {
      "text/plain": [
       "<Figure size 432x288 with 0 Axes>"
      ]
     },
     "metadata": {},
     "output_type": "display_data"
    }
   ],
   "source": [
    "import matplotlib.pyplot as plt\n",
    "import pandas as pd\n",
    "\n",
    "# Sample data\n",
    "data = df['state']\n",
    "\n",
    "# Count occurrences of each category\n",
    "category_counts = pd.Series(data).value_counts()\n",
    "\n",
    "\n",
    "# Create the horizontal bar plot\n",
    "plt.barh(category_counts.index, category_counts.values)[:5]\n",
    "\n",
    "# Add labels and title\n",
    "plt.xlabel('Count')\n",
    "plt.ylabel('Months')\n",
    "plt.title('Months in a Year')\n",
    "\n",
    "# Display the plot\n",
    "plt.show()\n",
    "plt.savefig(\"year_bar.png\")"
   ]
  },
  {
   "cell_type": "code",
   "execution_count": 85,
   "id": "0c6c4f71",
   "metadata": {},
   "outputs": [
    {
     "data": {
      "image/png": "[encoded data removed]",
      "text/plain": [
       "<Figure size 432x288 with 1 Axes>"
      ]
     },
     "metadata": {
      "needs_background": "light"
     },
     "output_type": "display_data"
    },
    {
     "data": {
      "text/plain": [
       "<Figure size 432x288 with 0 Axes>"
      ]
     },
     "metadata": {},
     "output_type": "display_data"
    }
   ],
   "source": [
    "import matplotlib.pyplot as plt\n",
    "import pandas as pd\n",
    "\n",
    "# Sample data\n",
    "data = df['state']\n",
    "\n",
    "# Count occurrences of each category\n",
    "category_counts = pd.Series(data).value_counts()[:10]\n",
    "\n",
    "\n",
    "# Create the horizontal bar plot\n",
    "plt.barh(category_counts.index, category_counts.values)\n",
    "\n",
    "# Add labels and title\n",
    "plt.xlabel('Count')\n",
    "plt.ylabel('Months')\n",
    "plt.title('Months in a Year')\n",
    "\n",
    "# Display the plot\n",
    "plt.show()\n",
    "plt.savefig(\"year_bar.png\")"
   ]
  },
  {
   "cell_type": "code",
   "execution_count": 82,
   "id": "a17bbff7",
   "metadata": {},
   "outputs": [
    {
     "data": {
      "text/plain": [
       "<AxesSubplot:ylabel='state'>"
      ]
     },
     "execution_count": 82,
     "metadata": {},
     "output_type": "execute_result"
    },
    {
     "data": {
      "image/png": "[encoded data removed]",
      "text/plain": [
       "<Figure size 432x288 with 1 Axes>"
      ]
     },
     "metadata": {},
     "output_type": "display_data"
    }
   ],
   "source": [
    "df['state'].value_counts()[:10].plot(kind='pie',autopct='%1.1f%%')"
   ]
  },
  {
   "cell_type": "code",
   "execution_count": 4,
   "id": "deee0300",
   "metadata": {},
   "outputs": [
    {
     "data": {
      "text/plain": [
       "Index(['state', 'lga', 'ward', 'facility_name', 'ownership', 'facility_level',\n",
       "       'longitude', 'latitude', 'operation_status', 'registration_status',\n",
       "       'license_status', 'country'],\n",
       "      dtype='object')"
      ]
     },
     "execution_count": 4,
     "metadata": {},
     "output_type": "execute_result"
    }
   ],
   "source": [
    "df.columns"
   ]
  },
  {
   "cell_type": "code",
   "execution_count": 9,
   "id": "f75a4ff5",
   "metadata": {},
   "outputs": [
    {
     "data": {
      "text/plain": [
       "array(['Licensed', 'Unknown', 'Not Applicable', 'Not Licensed',\n",
       "       'License Cancelled'], dtype=object)"
      ]
     },
     "execution_count": 9,
     "metadata": {},
     "output_type": "execute_result"
    }
   ],
   "source": [
    "df['license_status'].unique() "
   ]
  },
  {
   "cell_type": "code",
   "execution_count": null,
   "id": "86bec394",
   "metadata": {},
   "outputs": [],
   "source": [
    "df['ownership'].unique() "
   ]
  },
  {
   "cell_type": "code",
   "execution_count": null,
   "id": "fd60ea97",
   "metadata": {},
   "outputs": [],
   "source": []
  }
 ],
 "metadata": {
  "kernelspec": {
   "display_name": "Python 3 (ipykernel)",
   "language": "python",
   "name": "python3"
  },
  "language_info": {
   "codemirror_mode": {
    "name": "ipython",
    "version": 3
   },
   "file_extension": ".py",
   "mimetype": "text/x-python",
   "name": "python",
   "nbconvert_exporter": "python",
   "pygments_lexer": "ipython3",
   "version": "3.9.7"
  }
 },
 "nbformat": 4,
 "nbformat_minor": 5
}
